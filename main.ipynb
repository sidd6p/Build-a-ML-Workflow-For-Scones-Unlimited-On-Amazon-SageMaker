{
 "cells": [
  {
   "cell_type": "markdown",
   "metadata": {},
   "source": [
    "# Deploy and monitor a machine learning workflow for Image Classification\n",
    "\n",
    "- ## Data Staging\n",
    "- ## Model Training\n",
    "- ## Getting ready to deploy\n",
    "- ## Draft Lambdas and Step Function Workflow\n",
    "- ## Testing and Evaluation"
   ]
  },
  {
   "cell_type": "markdown",
   "metadata": {},
   "source": [
    "\n",
    "## Data Staging\n",
    "\n",
    "We'll use a sample dataset called CIFAR to simulate the challenges Scones Unlimited are facing in Image Classification. In order to start working with CIFAR we'll need to:\n",
    "\n",
    "1. Extract the data from a hosting service\n",
    "2. Transform it into a usable shape and format\n",
    "4. Explore the data\n",
    "5. Filter the dataset_train and dataset_meta objects to find the label numbers for Bicycle and Motorcycles\n",
    "6. Convert the object into the dataframe \n",
    "7. Save the data to the local machine\n",
    "7. Load it into a production system\n",
    "\n"
   ]
  },
  {
   "cell_type": "code",
   "execution_count": 3,
   "metadata": {},
   "outputs": [],
   "source": [
    "download_url = \"https://www.cs.toronto.edu/~kriz/cifar-100-python.tar.gz\"\n",
    "file_name = \"cifar.tar.gz\""
   ]
  },
  {
   "cell_type": "markdown",
   "metadata": {},
   "source": [
    "### 1. Extract the data from the hosting service\n",
    "\n",
    "- In the cell below, define a function `extract_cifar_data` that extracts python version of the CIFAR-100 dataset. \n",
    "- The CIFAR dataaset is open source and generously hosted by the University of Toronto at: https://www.cs.toronto.edu/~kriz/cifar-100-python.tar.gz \n",
    "- This will download a zip file"
   ]
  },
  {
   "cell_type": "code",
   "execution_count": 4,
   "metadata": {},
   "outputs": [],
   "source": [
    "import requests\n",
    "import os\n",
    "\n",
    "def extract_cifar_data(url, file_name):\n",
    "    \"\"\"\n",
    "    Downloads the CIFAR-100 dataset from the specified URL and saves it as a gzipped file.\n",
    "\n",
    "    Parameters:\n",
    "    url (str): The URL from which the CIFAR-100 dataset will be downloaded.\n",
    "    filename (str, optional): The name of the file where the downloaded dataset will be saved.\n",
    "                              Defaults to \"cifar.tar.gz\".\n",
    "\n",
    "    Returns:\n",
    "    None\n",
    "    \"\"\"\n",
    "    if not os.path.exists(file_name):\n",
    "        # Send a GET request to the specified URL to get the dataset content\n",
    "        r = requests.get(url)\n",
    "\n",
    "        # Open the file in binary write mode and write the dataset content into it\n",
    "        with open(file_name, \"wb\") as file_context:\n",
    "            file_context.write(r.content)\n",
    "\n",
    "        # Function execution completes, no return value necessary\n",
    "        return"
   ]
  },
  {
   "cell_type": "code",
   "execution_count": 5,
   "metadata": {},
   "outputs": [],
   "source": [
    "extract_cifar_data(download_url, file_name)"
   ]
  },
  {
   "cell_type": "markdown",
   "metadata": {},
   "source": [
    "### 2. Transform the data into a usable shape and format\n",
    "\n",
    "- Clearly, distributing the data as a gzipped archive makes sense for the hosting service! It saves on bandwidth, storage, and it's a widely-used archive format. \n",
    "- A new folder `cifar-100-python` should be created, containing `meta`, `test`, and `train` files, these are serialized python object. These files are `pickles` and the [CIFAR homepage](https://www.cs.toronto.edu/~kriz/cifar.html) provides a simple script that can be used to load them. \n",
    "- The zip file has 3 compressed form of python serialized object (serialized dict using pickle).\n",
    "- So we will extract the zip and then unpickle them into python dict."
   ]
  },
  {
   "cell_type": "code",
   "execution_count": 8,
   "metadata": {},
   "outputs": [],
   "source": [
    "import tarfile\n",
    "\n",
    "def unzip_data(file_name, mode=\"r:gz\"):\n",
    "    \n",
    "    if not os.path.exists(\"cifar-100-python\"):\n",
    "        # Open the gzipped tar file in read mode\n",
    "        with tarfile.open(file_name, mode) as tar:\n",
    "            # Extract all the contents of the tar file\n",
    "            tar.extractall()"
   ]
  },
  {
   "cell_type": "code",
   "execution_count": 3,
   "metadata": {},
   "outputs": [],
   "source": [
    "import pickle\n",
    "\n",
    "def de_serialize_pickle_data():\n",
    "    # Open and load the metadata file\n",
    "    with open(\"./cifar-100-python/meta\", \"rb\") as f:\n",
    "        # Load metadata using pickle, specifying 'bytes' encoding\n",
    "        dataset_meta = pickle.load(f, encoding='bytes')\n",
    "\n",
    "    # Open and load the test data file\n",
    "    with open(\"./cifar-100-python/test\", \"rb\") as f:\n",
    "        # Load test data using pickle, specifying 'bytes' encoding\n",
    "        dataset_test = pickle.load(f, encoding='bytes')\n",
    "\n",
    "    # Open and load the training data file\n",
    "    with open(\"./cifar-100-python/train\", \"rb\") as f:\n",
    "        # Load training data using pickle, specifying 'bytes' encoding\n",
    "        dataset_train = pickle.load(f, encoding='bytes')\n",
    "    \n",
    "    return dataset_meta, dataset_test, dataset_train"
   ]
  },
  {
   "cell_type": "code",
   "execution_count": 95,
   "metadata": {},
   "outputs": [],
   "source": [
    "unzip_data(file_name)"
   ]
  },
  {
   "cell_type": "code",
   "execution_count": 5,
   "metadata": {},
   "outputs": [],
   "source": [
    "dataset_meta, dataset_test, dataset_train = de_serialize_pickle_data()"
   ]
  },
  {
   "cell_type": "markdown",
   "metadata": {},
   "source": [
    "### 3. Explore the data"
   ]
  },
  {
   "cell_type": "code",
   "execution_count": 6,
   "metadata": {},
   "outputs": [
    {
     "name": "stdout",
     "output_type": "stream",
     "text": [
      "Requirement already satisfied: matplotlib in c:\\users\\siddpc\\anaconda3\\lib\\site-packages (3.3.4)\n",
      "Requirement already satisfied: cycler>=0.10 in c:\\users\\siddpc\\anaconda3\\lib\\site-packages (from matplotlib) (0.10.0)\n",
      "Requirement already satisfied: kiwisolver>=1.0.1 in c:\\users\\siddpc\\anaconda3\\lib\\site-packages (from matplotlib) (1.3.1)\n",
      "Requirement already satisfied: numpy>=1.15 in c:\\users\\siddpc\\anaconda3\\lib\\site-packages (from matplotlib) (1.22.4)\n",
      "Requirement already satisfied: pillow>=6.2.0 in c:\\users\\siddpc\\anaconda3\\lib\\site-packages (from matplotlib) (9.4.0)\n",
      "Requirement already satisfied: pyparsing!=2.0.4,!=2.1.2,!=2.1.6,>=2.0.3 in c:\\users\\siddpc\\appdata\\roaming\\python\\python38\\site-packages (from matplotlib) (3.0.9)\n",
      "Requirement already satisfied: python-dateutil>=2.1 in c:\\users\\siddpc\\appdata\\roaming\\python\\python38\\site-packages (from matplotlib) (2.8.2)\n",
      "Requirement already satisfied: six in c:\\users\\siddpc\\appdata\\roaming\\python\\python38\\site-packages (from cycler>=0.10->matplotlib) (1.16.0)\n"
     ]
    },
    {
     "name": "stderr",
     "output_type": "stream",
     "text": [
      "\n",
      "[notice] A new release of pip is available: 23.1.2 -> 23.3.1\n",
      "[notice] To update, run: python.exe -m pip install --upgrade pip\n"
     ]
    }
   ],
   "source": [
    "!pip install matplotlib"
   ]
  },
  {
   "cell_type": "code",
   "execution_count": 96,
   "metadata": {},
   "outputs": [
    {
     "name": "stdout",
     "output_type": "stream",
     "text": [
      "<class 'dict'> <class 'list'> <class 'list'>\n"
     ]
    }
   ],
   "source": [
    "print(type(dataset_train),type(dataset_train[b'filenames']), type(dataset_train[b'fine_labels']))"
   ]
  },
  {
   "cell_type": "code",
   "execution_count": 7,
   "metadata": {},
   "outputs": [
    {
     "data": {
      "text/plain": [
       "(dict, dict, dict)"
      ]
     },
     "execution_count": 7,
     "metadata": {},
     "output_type": "execute_result"
    }
   ],
   "source": [
    "type(dataset_meta), type(dataset_test), type(dataset_train)"
   ]
  },
  {
   "cell_type": "code",
   "execution_count": 8,
   "metadata": {},
   "outputs": [
    {
     "data": {
      "text/plain": [
       "(dict_keys([b'filenames', b'batch_label', b'fine_labels', b'coarse_labels', b'data']),\n",
       " dict_keys([b'filenames', b'batch_label', b'fine_labels', b'coarse_labels', b'data']),\n",
       " dict_keys([b'fine_label_names', b'coarse_label_names']))"
      ]
     },
     "execution_count": 8,
     "metadata": {},
     "output_type": "execute_result"
    }
   ],
   "source": [
    "dataset_train.keys(), dataset_test.keys(), dataset_meta.keys()"
   ]
  },
  {
   "cell_type": "code",
   "execution_count": 9,
   "metadata": {},
   "outputs": [
    {
     "data": {
      "text/plain": [
       "(array([[255, 255, 255, ...,  10,  59,  79],\n",
       "        [255, 253, 253, ..., 253, 253, 255],\n",
       "        [250, 248, 247, ..., 194, 207, 228],\n",
       "        ...,\n",
       "        [248, 240, 236, ..., 180, 174, 205],\n",
       "        [156, 151, 151, ..., 114, 107, 126],\n",
       "        [ 31,  30,  31, ...,  72,  69,  67]], dtype=uint8),\n",
       " 50000,\n",
       " 3072)"
      ]
     },
     "execution_count": 9,
     "metadata": {},
     "output_type": "execute_result"
    }
   ],
   "source": [
    "dataset_train[b'data'], len(dataset_train[b'data']), len(dataset_train[b'data'][0])"
   ]
  },
  {
   "cell_type": "markdown",
   "metadata": {},
   "source": [
    "Let's transform one of our images. \n",
    "Using python, we can stack these channels into a 32x32x3 array, and save it as a PNG file:"
   ]
  },
  {
   "cell_type": "code",
   "execution_count": 10,
   "metadata": {},
   "outputs": [],
   "source": [
    "import numpy as np\n",
    "import matplotlib.pyplot as plt\n",
    "\n",
    "\n",
    "def plot_single_image(image_array):\n",
    "    channel_size = 32*32\n",
    "    # Load the dataset_train and select the first row\n",
    "    row = image_array\n",
    "\n",
    "    # Split the row into red, green, and blue channels\n",
    "    red, green, blue = row[0:channel_size], row[channel_size:channel_size*2], row[channel_size*2:channel_size*3]\n",
    "    \n",
    "    # Reshape the channel data into 32x32 arrays\n",
    "    red = red.reshape(32, 32)\n",
    "    green = green.reshape(32, 32)\n",
    "    blue = blue.reshape(32, 32)\n",
    "    print(red.shape, red[0].shape)\n",
    "\n",
    "    # Combine the individual channels into a 32x32x3 image using NumPy's dstack function\n",
    "    combined = np.dstack((red, green, blue))\n",
    "    \n",
    "    plt.imshow(combined)"
   ]
  },
  {
   "cell_type": "code",
   "execution_count": 11,
   "metadata": {
    "scrolled": true
   },
   "outputs": [
    {
     "name": "stdout",
     "output_type": "stream",
     "text": [
      "(32, 32) (32,)\n"
     ]
    },
    {
     "data": {
      "image/png": "[encoded data removed]",
      "text/plain": [
       "<Figure size 432x288 with 1 Axes>"
      ]
     },
     "metadata": {
      "needs_background": "light"
     },
     "output_type": "display_data"
    }
   ],
   "source": [
    "plot_single_image(dataset_train[b'data'][0])"
   ]
  },
  {
   "cell_type": "markdown",
   "metadata": {},
   "source": [
    "Looks like a cow! Let's check the label. `dataset_meta` contains label names in order, and `dataset_train` has a list of labels for each row."
   ]
  },
  {
   "cell_type": "markdown",
   "metadata": {},
   "source": [
    "Index in `dataset_meta[b'fine_label_names']` are actually the labels."
   ]
  },
  {
   "cell_type": "code",
   "execution_count": 12,
   "metadata": {},
   "outputs": [
    {
     "data": {
      "text/plain": [
       "([19, 29, 0, 11, 1], [b'apple', b'aquarium_fish', b'baby', b'bear', b'beaver'])"
      ]
     },
     "execution_count": 12,
     "metadata": {},
     "output_type": "execute_result"
    }
   ],
   "source": [
    "dataset_train[b'fine_labels'][0:5], dataset_meta[b'fine_label_names'][0:5]"
   ]
  },
  {
   "cell_type": "code",
   "execution_count": 13,
   "metadata": {},
   "outputs": [
    {
     "data": {
      "text/plain": [
       "b'cattle'"
      ]
     },
     "execution_count": 13,
     "metadata": {},
     "output_type": "execute_result"
    }
   ],
   "source": [
    "dataset_meta[b'fine_label_names'][dataset_train[b'fine_labels'][0]]"
   ]
  },
  {
   "cell_type": "code",
   "execution_count": 14,
   "metadata": {},
   "outputs": [
    {
     "name": "stdout",
     "output_type": "stream",
     "text": [
      "b'bos_taurus_s_000507.png'\n"
     ]
    }
   ],
   "source": [
    "print(dataset_train[b'filenames'][0])"
   ]
  },
  {
   "cell_type": "markdown",
   "metadata": {},
   "source": [
    "\"Taurus\" is the name of a subspecies of cattle."
   ]
  },
  {
   "cell_type": "markdown",
   "metadata": {},
   "source": [
    "- All unpicked objects are Python dictionaries.\n",
    "- The train dictionary has 5 keys:\n",
    "    1. `b'filenames'`\n",
    "    2. `b'batch_label'`\n",
    "    3. `b'fine_labels'`\n",
    "    4. `b'coarse_labels'`\n",
    "    5. `b'data'`\n",
    "\n",
    "\n",
    "\n",
    "\n",
    "\n",
    "- The test dictionary has 5 keys:\n",
    "    1. `b'filenames'`\n",
    "    2. `b'batch_label'`\n",
    "    3. `b'fine_labels'`\n",
    "    4. `b'coarse_labels'`\n",
    "    5. `b'data'`\n",
    "    \n",
    " \n",
    " \n",
    " - The meta dictionary has 2 keys:\n",
    "    1. `b'fine_label_names'`\n",
    "    2. `b'coarse_label_names'`\n",
    "    3. `b'fine_labels'`\n",
    "    4. `b'coarse_labels'`\n",
    "    5. `b'data'`\n",
    "    \n",
    "    \n",
    "    \n",
    "- As documented on the homepage, `b'data'` 50000 contains rows of 3073 unsigned integers, representing three channels (red, green, and blue) for one 32x32 pixel image per row. So total = 32x32x3 = 3072 per index.\n",
    "\n",
    "\n",
    "- `dataset_train[b'fine_labels']` contains the label for the image, this label act as index in `dataset_meta[b'fine_label_names']`\n"
   ]
  },
  {
   "cell_type": "markdown",
   "metadata": {},
   "source": [
    "### 4. Filter the dataset_train and dataset_meta objects for Bicycle and Motorcycles"
   ]
  },
  {
   "cell_type": "code",
   "execution_count": 15,
   "metadata": {},
   "outputs": [
    {
     "name": "stdout",
     "output_type": "stream",
     "text": [
      "Requirement already satisfied: pandas in c:\\users\\siddpc\\anaconda3\\lib\\site-packages (1.5.3)\n",
      "Requirement already satisfied: python-dateutil>=2.8.1 in c:\\users\\siddpc\\appdata\\roaming\\python\\python38\\site-packages (from pandas) (2.8.2)\n",
      "Requirement already satisfied: pytz>=2020.1 in c:\\users\\siddpc\\anaconda3\\lib\\site-packages (from pandas) (2022.7.1)\n",
      "Requirement already satisfied: numpy>=1.20.3 in c:\\users\\siddpc\\anaconda3\\lib\\site-packages (from pandas) (1.22.4)\n",
      "Requirement already satisfied: six>=1.5 in c:\\users\\siddpc\\appdata\\roaming\\python\\python38\\site-packages (from python-dateutil>=2.8.1->pandas) (1.16.0)\n"
     ]
    },
    {
     "name": "stderr",
     "output_type": "stream",
     "text": [
      "\n",
      "[notice] A new release of pip is available: 23.1.2 -> 23.3.1\n",
      "[notice] To update, run: python.exe -m pip install --upgrade pip\n"
     ]
    }
   ],
   "source": [
    "!pip3 install pandas"
   ]
  },
  {
   "cell_type": "code",
   "execution_count": 17,
   "metadata": {},
   "outputs": [
    {
     "name": "stdout",
     "output_type": "stream",
     "text": [
      "Label Name: b'bicycle',  Label Number: 8\n",
      "Label Name: b'motorcycle',  Label Number: 48\n"
     ]
    }
   ],
   "source": [
    "for  index, label_name in enumerate(dataset_meta[b'fine_label_names']):\n",
    "    if label_name in [b'bicycle',b'motorcycle']:\n",
    "        print( f\"Label Name: {label_name},  Label Number: {index}\")"
   ]
  },
  {
   "cell_type": "markdown",
   "metadata": {},
   "source": [
    "### 5. Convert the object into the dataframe"
   ]
  },
  {
   "cell_type": "code",
   "execution_count": 46,
   "metadata": {},
   "outputs": [
    {
     "name": "stdout",
     "output_type": "stream",
     "text": [
      "range(0, 50000)\n"
     ]
    }
   ],
   "source": [
    "print(range(len(dataset_train[b'filenames'])))"
   ]
  },
  {
   "cell_type": "code",
   "execution_count": 92,
   "metadata": {},
   "outputs": [],
   "source": [
    "import pandas as pd\n",
    "\n",
    "# Construct the dataframe for training data\n",
    "df_train = pd.DataFrame({\n",
    "    \"filenames\": dataset_train[b'filenames'],\n",
    "    \"labels\": dataset_train[b'fine_labels'],\n",
    "    \"row\": range(len(dataset_train[b'filenames'])) # for adding the index column\n",
    "})\n",
    "\n",
    "# Drop all rows from df_train where label is not 8 or 48\n",
    "df_train = df_train.loc[df_train[\"labels\"].isin([8,48])]\n",
    "\n",
    "# Decode df_train.filenames so they are regular strings\n",
    "#  b'bike_s_000682.png' ==> bike_s_000682.png\n",
    "df_train[\"filenames\"] = df_train[\"filenames\"].apply(lambda x: x.decode(\"utf-8\"))\n",
    "\n",
    "# Construct the dataframe for testing data\n",
    "df_test = pd.DataFrame({\n",
    "    \"filenames\": dataset_test[b'filenames'],\n",
    "    \"labels\": dataset_test[b'fine_labels'],\n",
    "    \"row\": range(len(dataset_test[b'filenames']))\n",
    "})\n",
    "\n",
    "# Drop all rows from df_test where label is not 8 or 48\n",
    "df_test = df_test.loc[df_test[\"labels\"].isin([8,48])]\n",
    "\n",
    "# Decode df_test.filenames so they are regular strings\n",
    "df_test[\"filenames\"] = df_test[\"filenames\"].apply(lambda x: x.decode(\"utf-8\"))"
   ]
  },
  {
   "cell_type": "code",
   "execution_count": 94,
   "metadata": {
    "tags": []
   },
   "outputs": [],
   "source": [
    "df_train.head()"
   ]
  },
  {
   "cell_type": "code",
   "execution_count": 76,
   "metadata": {
    "tags": []
   },
   "outputs": [],
   "source": [
    "df_train.describe()"
   ]
  },
  {
   "cell_type": "code",
   "execution_count": 77,
   "metadata": {
    "tags": []
   },
   "outputs": [],
   "source": [
    "df_test.head()"
   ]
  },
  {
   "cell_type": "code",
   "execution_count": 78,
   "metadata": {
    "tags": []
   },
   "outputs": [],
   "source": [
    "df_test.describe()"
   ]
  },
  {
   "cell_type": "markdown",
   "metadata": {},
   "source": [
    "- `df_train` and `df_test` have filename, lable, and index from original data dict"
   ]
  },
  {
   "cell_type": "markdown",
   "metadata": {},
   "source": [
    "### 6. Save the data to the local machine"
   ]
  },
  {
   "cell_type": "code",
   "execution_count": null,
   "metadata": {},
   "outputs": [],
   "source": [
    "!mkdir ./train\n",
    "!mkdir ./test"
   ]
  },
  {
   "cell_type": "markdown",
   "metadata": {},
   "source": [
    "In the previous sections we introduced you to several key snippets of code:\n",
    "\n",
    "1. Grabbing the image data:\n",
    "\n",
    "```python\n",
    "dataset_train[b'data'][0]\n",
    "```\n",
    "\n",
    "2. A simple idiom for stacking the image data into the right shape\n",
    "\n",
    "```python\n",
    "import numpy as np\n",
    "np.dstack((\n",
    "    row[0:1024].reshape(32,32),\n",
    "    row[1024:2048].reshape(32,32),\n",
    "    row[2048:].reshape(32,32)\n",
    "))\n",
    "```\n",
    "\n",
    "3. A simple `matplotlib` utility for saving images\n",
    "\n",
    "```python\n",
    "plt.imsave(path+row['filenames'], target)\n",
    "```"
   ]
  },
  {
   "cell_type": "code",
   "execution_count": 60,
   "metadata": {},
   "outputs": [],
   "source": [
    "def save_images(image_data_row_num , image_filename, target_folder_path, images_dataset):\n",
    "    \"\"\"A function for saving images from the dataset to the provided target path folders \n",
    "    \n",
    "    Arguments:\n",
    "    image_data_row_num  -- image data row that needs to be saved into a folder\n",
    "    image_filename            -- filename with which the image needs to be saved\n",
    "    target_folder_path        --  target folder path where image needs to be saved\n",
    "    images_dataset             -- original images dataset containing the data for the given images\n",
    "    \n",
    "    \"\"\"\n",
    "    #Grab the image data in row-major form\n",
    "    img_data =  images_dataset[b'data'][image_data_row_num]\n",
    "    \n",
    "    # Consolidated stacking/reshaping from earlier\n",
    "    target = np.dstack((\n",
    "        img_data[0:1024].reshape(32,32),\n",
    "        img_data[1024:2048].reshape(32,32),\n",
    "        img_data[2048:].reshape(32,32)\n",
    "    ))\n",
    "    \n",
    "    # Save the image\n",
    "    try:\n",
    "        image_file_path = os.path.join(target_folder_path, image_filename)\n",
    "        plt.imsave(image_file_path, target)\n",
    "    except e:\n",
    "        return f\"Error Saving {image_filename} to folder {target_folder_path} \\n Error: {e}  \"\n",
    "    # Return any signal data you want for debugging\n",
    "    return f\"Successfully saved {image_filename} to folder {target_folder_path}.\""
   ]
  },
  {
   "cell_type": "code",
   "execution_count": 85,
   "metadata": {
    "tags": []
   },
   "outputs": [
    {
     "name": "stdout",
     "output_type": "stream",
     "text": [
      "(16, b'bike_s_000682.png')\n",
      "(30, b'bike_s_000127.png')\n",
      "(130, b'cycle_s_002598.png')\n",
      "(152, b'minibike_s_000824.png')\n",
      "(195, b'motorcycle_s_001856.png')\n",
      "(219, b'bicycle_s_000537.png')\n",
      "(251, b'moped_s_000169.png')\n",
      "(252, b'motorcycle_s_001453.png')\n",
      "(298, b'safety_bike_s_000482.png')\n",
      "(370, b'dirt_bike_s_000124.png')\n",
      "(390, b'minibike_s_001863.png')\n",
      "(392, b'minibike_s_001177.png')\n",
      "(408, b'motorcycle_s_001792.png')\n",
      "(560, b'minibike_s_001969.png')\n",
      "(575, b'velocipede_s_001585.png')\n",
      "(576, b'moped_s_000035.png')\n",
      "(663, b'bike_s_000256.png')\n",
      "(682, b'minibike_s_000571.png')\n",
      "(785, b'motorcycle_s_001119.png')\n",
      "(839, b'moped_s_000009.png')\n",
      "(921, b'ordinary_bicycle_s_000023.png')\n",
      "(922, b'motorcycle_s_001693.png')\n",
      "(964, b'safety_bicycle_s_001570.png')\n",
      "(984, b'safety_bike_s_000989.png')\n",
      "(996, b'bicycle_s_001673.png')\n",
      "(1023, b'ordinary_bicycle_s_000100.png')\n",
      "(1114, b'bike_s_000544.png')\n",
      "(1132, b'motorcycle_s_001368.png')\n",
      "(1158, b'bicycle_s_000392.png')\n",
      "(1170, b'motorbike_s_000221.png')\n",
      "(1255, b'safety_bike_s_000311.png')\n",
      "(1290, b'cycle_s_001745.png')\n",
      "(1334, b'motorcycle_s_002030.png')\n",
      "(1357, b'motorcycle_s_000074.png')\n",
      "(1362, b'cycle_s_002978.png')\n",
      "(1457, b'bike_s_001679.png')\n",
      "(1555, b'bicycle_s_000536.png')\n",
      "(1564, b'bike_s_000926.png')\n",
      "(1644, b'motorcycle_s_000070.png')\n",
      "(1747, b'safety_bicycle_s_000655.png')\n",
      "(1818, b'safety_bicycle_s_000427.png')\n",
      "(1841, b'minibike_s_000324.png')\n",
      "(1885, b'minibike_s_001631.png')\n",
      "(1942, b'motorcycle_s_000629.png')\n",
      "(1964, b'motorcycle_s_000605.png')\n",
      "(1965, b'motorcycle_s_001973.png')\n",
      "(2010, b'bike_s_000555.png')\n",
      "(2079, b'bicycle_s_002762.png')\n",
      "(2105, b'bicycle_s_000778.png')\n",
      "(2163, b'bike_s_001613.png')\n",
      "(2296, b'motorcycle_s_001180.png')\n",
      "(2319, b'minibike_s_001279.png')\n",
      "(2499, b'minibike_s_000451.png')\n",
      "(2525, b'motorbike_s_000346.png')\n",
      "(2598, b'minibike_s_000117.png')\n",
      "(2599, b'bicycle_s_001448.png')\n",
      "(2790, b'motorcycle_s_000790.png')\n",
      "(2838, b'bicycle_s_002373.png')\n",
      "(2852, b'safety_bicycle_s_001202.png')\n",
      "(2952, b'motorcycle_s_000001.png')\n",
      "(2973, b'bike_s_001882.png')\n",
      "(3053, b'bike_s_001113.png')\n",
      "(3162, b'minibike_s_000362.png')\n",
      "(3228, b'cycle_s_000718.png')\n",
      "(3286, b'velocipede_s_001338.png')\n",
      "(3464, b'minibike_s_001972.png')\n",
      "(3566, b'ordinary_bicycle_s_000107.png')\n",
      "(3574, b'motorcycle_s_000776.png')\n",
      "(3584, b'safety_bike_s_000934.png')\n",
      "(3597, b'bicycle_s_002218.png')\n",
      "(3616, b'safety_bicycle_s_001240.png')\n",
      "(3653, b'ordinary_bicycle_s_000355.png')\n",
      "(3676, b'motorcycle_s_000454.png')\n",
      "(3817, b'motorcycle_s_000245.png')\n",
      "(3923, b'minibike_s_000743.png')\n",
      "(3954, b'safety_bike_s_000830.png')\n",
      "(4027, b'minibike_s_001573.png')\n",
      "(4036, b'motorbike_s_000141.png')\n",
      "(4097, b'minibike_s_000652.png')\n",
      "(4197, b'motorbike_s_000058.png')\n",
      "(4207, b'bicycle_s_000279.png')\n",
      "(4212, b'safety_bike_s_001608.png')\n",
      "(4221, b'bicycle_s_000522.png')\n",
      "(4291, b'bicycle_s_002569.png')\n",
      "(4320, b'bicycle_s_000829.png')\n",
      "(4367, b'velocipede_s_000586.png')\n",
      "(4416, b'dirt_bike_s_000017.png')\n",
      "(4437, b'cycle_s_001640.png')\n",
      "(4448, b'bicycle_s_000282.png')\n",
      "(4478, b'motorcycle_s_000713.png')\n",
      "(4509, b'bike_s_000035.png')\n",
      "(4600, b'bike_s_000299.png')\n",
      "(4654, b'minibike_s_002198.png')\n",
      "(4690, b'safety_bicycle_s_001253.png')\n",
      "(4693, b'minibike_s_000110.png')\n",
      "(4779, b'motorcycle_s_001370.png')\n",
      "(4803, b'motorcycle_s_001363.png')\n",
      "(4838, b'ordinary_bicycle_s_000060.png')\n",
      "(4880, b'minibike_s_001653.png')\n",
      "(4900, b'bicycle_s_001338.png')\n",
      "(4911, b'cycle_s_002053.png')\n",
      "(4921, b'velocipede_s_001056.png')\n",
      "(4957, b'minibike_s_000402.png')\n",
      "(4997, b'motorbike_s_000124.png')\n",
      "(5001, b'cycle_s_002638.png')\n",
      "(5033, b'velocipede_s_000949.png')\n",
      "(5152, b'safety_bike_s_000921.png')\n",
      "(5213, b'ordinary_bicycle_s_000297.png')\n",
      "(5312, b'motorcycle_s_001580.png')\n",
      "(5352, b'velocipede_s_000139.png')\n",
      "(5375, b'bicycle_s_000561.png')\n",
      "(5386, b'ordinary_bicycle_s_000161.png')\n",
      "(5403, b'minibike_s_000518.png')\n",
      "(5551, b'motorcycle_s_000167.png')\n",
      "(5566, b'cycle_s_000318.png')\n",
      "(5588, b'velocipede_s_001958.png')\n",
      "(5640, b'ordinary_bicycle_s_000201.png')\n",
      "(5757, b'bike_s_001462.png')\n",
      "(5759, b'bicycle_s_000437.png')\n",
      "(5830, b'velocipede_s_000825.png')\n",
      "(5866, b'safety_bike_s_000100.png')\n",
      "(5882, b'minibike_s_000654.png')\n",
      "(5886, b'bicycle_s_000021.png')\n",
      "(5975, b'moped_s_000030.png')\n",
      "(6070, b'velocipede_s_001142.png')\n",
      "(6084, b'motorbike_s_000117.png')\n",
      "(6092, b'ordinary_bicycle_s_000036.png')\n",
      "(6123, b'motorcycle_s_000787.png')\n",
      "(6222, b'bike_s_000516.png')\n",
      "(6252, b'motorcycle_s_000256.png')\n",
      "(6293, b'bicycle_s_002299.png')\n",
      "(6330, b'velocipede_s_001883.png')\n",
      "(6333, b'motorcycle_s_002143.png')\n",
      "(6386, b'cycle_s_000899.png')\n",
      "(6519, b'bicycle_s_002436.png')\n",
      "(6540, b'safety_bicycle_s_000255.png')\n",
      "(6687, b'minibike_s_000565.png')\n",
      "(6701, b'bike_s_000034.png')\n",
      "(6710, b'motorcycle_s_001064.png')\n",
      "(6718, b'minibike_s_001017.png')\n",
      "(6733, b'motorbike_s_000172.png')\n",
      "(6741, b'motorcycle_s_000923.png')\n",
      "(6832, b'cycle_s_000583.png')\n",
      "(6853, b'motorcycle_s_000991.png')\n",
      "(6870, b'motorbike_s_000541.png')\n",
      "(6895, b'motorcycle_s_001303.png')\n",
      "(6903, b'safety_bike_s_000567.png')\n",
      "(7026, b'minibike_s_000350.png')\n",
      "(7070, b'motorcycle_s_001905.png')\n",
      "(7101, b'bicycle_s_001247.png')\n",
      "(7105, b'bicycle_s_001693.png')\n",
      "(7119, b'bicycle_s_002258.png')\n",
      "(7120, b'safety_bike_s_001552.png')\n",
      "(7137, b'cycle_s_002651.png')\n",
      "(7161, b'bicycle_s_000759.png')\n",
      "(7185, b'motorcycle_s_001176.png')\n",
      "(7229, b'ordinary_bicycle_s_000432.png')\n",
      "(7253, b'minibike_s_000526.png')\n",
      "(7255, b'safety_bicycle_s_001049.png')\n",
      "(7282, b'minibike_s_001827.png')\n",
      "(7286, b'bike_s_001072.png')\n",
      "(7362, b'bike_s_001876.png')\n",
      "(7505, b'minibike_s_001511.png')\n",
      "(7517, b'bike_s_000237.png')\n",
      "(7650, b'motorbike_s_000254.png')\n",
      "(7699, b'bicycle_s_000180.png')\n",
      "(7715, b'safety_bicycle_s_000359.png')\n",
      "(7719, b'motorcycle_s_000220.png')\n",
      "(7732, b'motorcycle_s_002225.png')\n",
      "(7896, b'minibike_s_001185.png')\n",
      "(7943, b'motorcycle_s_000025.png')\n",
      "(7946, b'safety_bike_s_000058.png')\n",
      "(7976, b'dirt_bike_s_000030.png')\n",
      "(8138, b'minibike_s_002009.png')\n",
      "(8153, b'bicycle_s_000753.png')\n",
      "(8191, b'safety_bicycle_s_001320.png')\n",
      "(8209, b'motorcycle_s_001287.png')\n",
      "(8222, b'ordinary_bicycle_s_000451.png')\n",
      "(8247, b'minibike_s_000885.png')\n",
      "(8322, b'motorcycle_s_000418.png')\n",
      "(8355, b'velocipede_s_000282.png')\n",
      "(8408, b'cycle_s_001474.png')\n",
      "(8509, b'bicycle_s_000667.png')\n",
      "(8533, b'minibike_s_001546.png')\n",
      "(8545, b'bicycle_s_001452.png')\n",
      "(8579, b'motorcycle_s_000978.png')\n",
      "(8585, b'motorcycle_s_000447.png')\n",
      "(8595, b'minibike_s_000146.png')\n",
      "(8657, b'motorcycle_s_000300.png')\n",
      "(8674, b'safety_bicycle_s_001381.png')\n",
      "(8715, b'bike_s_001519.png')\n",
      "(8740, b'minibike_s_001689.png')\n",
      "(8744, b'bike_s_001320.png')\n",
      "(8780, b'bike_s_000722.png')\n",
      "(8797, b'motorcycle_s_000508.png')\n",
      "(8868, b'motorcycle_s_002105.png')\n",
      "(8885, b'minibike_s_000165.png')\n",
      "(8933, b'cycle_s_002703.png')\n",
      "(9006, b'ordinary_bicycle_s_000216.png')\n",
      "(9035, b'motorcycle_s_001610.png')\n",
      "(9066, b'cycle_s_002779.png')\n",
      "(9074, b'bicycle_s_000668.png')\n",
      "(9089, b'minibike_s_002186.png')\n",
      "(9094, b'bike_s_002118.png')\n",
      "(9101, b'safety_bike_s_001472.png')\n",
      "(9132, b'ordinary_bicycle_s_000016.png')\n",
      "(9137, b'motorcycle_s_001384.png')\n",
      "(9199, b'motorcycle_s_000431.png')\n",
      "(9230, b'bike_s_000302.png')\n",
      "(9317, b'velocipede_s_000659.png')\n",
      "(9328, b'motorcycle_s_001585.png')\n",
      "(9356, b'bike_s_001027.png')\n",
      "(9439, b'bicycle_s_000396.png')\n",
      "(9455, b'minibike_s_000149.png')\n",
      "(9518, b'velocipede_s_000702.png')\n",
      "(9534, b'ordinary_bicycle_s_000155.png')\n",
      "(9572, b'cycle_s_003122.png')\n",
      "(9601, b'motorbike_s_000021.png')\n",
      "(9614, b'safety_bicycle_s_001026.png')\n",
      "(9615, b'bike_s_001375.png')\n",
      "(9650, b'safety_bicycle_s_000533.png')\n",
      "(9657, b'bike_s_000021.png')\n",
      "(9743, b'minibike_s_000968.png')\n",
      "(9797, b'minibike_s_001873.png')\n",
      "(9827, b'bicycle_s_000463.png')\n",
      "(9972, b'bike_s_001839.png')\n",
      "(10000, b'minibike_s_000340.png')\n",
      "(10050, b'minibike_s_000831.png')\n",
      "(10083, b'motorcycle_s_001273.png')\n",
      "(10091, b'motorcycle_s_000807.png')\n",
      "(10098, b'bicycle_s_000156.png')\n",
      "(10129, b'motorcycle_s_000732.png')\n",
      "(10377, b'dirt_bike_s_000119.png')\n",
      "(10468, b'bicycle_s_000231.png')\n",
      "(10477, b'ordinary_bicycle_s_000056.png')\n",
      "(10504, b'ordinary_bicycle_s_000022.png')\n",
      "(10523, b'safety_bicycle_s_001243.png')\n",
      "(10557, b'motorcycle_s_000894.png')\n",
      "(10571, b'motorcycle_s_001397.png')\n",
      "(10608, b'motorcycle_s_000542.png')\n",
      "(10620, b'motorcycle_s_000834.png')\n",
      "(10632, b'motorcycle_s_001238.png')\n",
      "(10665, b'minibike_s_000567.png')\n",
      "(10741, b'minibike_s_001512.png')\n",
      "(10762, b'bike_s_001945.png')\n",
      "(10794, b'cycle_s_003148.png')\n",
      "(10798, b'safety_bicycle_s_000019.png')\n",
      "(10951, b'safety_bicycle_s_000167.png')\n",
      "(11080, b'motorcycle_s_001407.png')\n",
      "(11106, b'velocipede_s_001225.png')\n",
      "(11174, b'moped_s_000168.png')\n",
      "(11229, b'bicycle_s_000071.png')\n",
      "(11262, b'minibike_s_002030.png')\n",
      "(11307, b'minibike_s_001294.png')\n",
      "(11311, b'minibike_s_001767.png')\n",
      "(11381, b'safety_bike_s_000984.png')\n",
      "(11383, b'bicycle_s_000782.png')\n",
      "(11388, b'ordinary_bicycle_s_000095.png')\n",
      "(11451, b'cycle_s_001286.png')\n",
      "(11617, b'bike_s_001116.png')\n",
      "(11625, b'motorcycle_s_002065.png')\n",
      "(11653, b'ordinary_bicycle_s_000433.png')\n",
      "(11708, b'motorcycle_s_002221.png')\n",
      "(11717, b'safety_bike_s_000054.png')\n",
      "(11751, b'bicycle_s_001174.png')\n",
      "(11789, b'bicycle_s_002222.png')\n",
      "(11819, b'velocipede_s_001361.png')\n",
      "(11955, b'safety_bike_s_001012.png')\n",
      "(11975, b'minibike_s_000244.png')\n",
      "(12023, b'bicycle_s_000861.png')\n",
      "(12058, b'minibike_s_000566.png')\n",
      "(12130, b'motorcycle_s_001244.png')\n",
      "(12188, b'bicycle_s_002715.png')\n",
      "(12231, b'safety_bike_s_000963.png')\n",
      "(12265, b'motorcycle_s_001765.png')\n",
      "(12296, b'velocipede_s_000021.png')\n",
      "(12633, b'motorcycle_s_000580.png')\n",
      "(12767, b'bike_s_001226.png')\n",
      "(12822, b'motorcycle_s_000440.png')\n",
      "(12845, b'motorcycle_s_000144.png')\n",
      "(12964, b'cycle_s_002844.png')\n",
      "(13009, b'minibike_s_000485.png')\n",
      "(13089, b'ordinary_bicycle_s_000426.png')\n",
      "(13279, b'minibike_s_002196.png')\n",
      "(13295, b'bike_s_001897.png')\n",
      "(13298, b'cycle_s_001374.png')\n",
      "(13322, b'motorcycle_s_000585.png')\n",
      "(13327, b'bike_s_000026.png')\n",
      "(13482, b'bicycle_s_000235.png')\n",
      "(13520, b'minibike_s_000108.png')\n",
      "(13532, b'motorcycle_s_000072.png')\n",
      "(13576, b'motorcycle_s_002234.png')\n",
      "(13582, b'bicycle_s_000785.png')\n",
      "(13642, b'motorcycle_s_000669.png')\n",
      "(13684, b'bicycle_s_000051.png')\n",
      "(13692, b'bike_s_001093.png')\n",
      "(13716, b'velocipede_s_000049.png')\n",
      "(13740, b'bike_s_000023.png')\n",
      "(13762, b'motorcycle_s_001696.png')\n",
      "(13772, b'safety_bicycle_s_001113.png')\n",
      "(13786, b'motorcycle_s_000451.png')\n",
      "(13809, b'velocipede_s_000485.png')\n",
      "(13860, b'motorcycle_s_001753.png')\n",
      "(13879, b'cycle_s_001439.png')\n",
      "(13997, b'minibike_s_002038.png')\n",
      "(14027, b'bicycle_s_000147.png')\n",
      "(14067, b'cycle_s_002399.png')\n",
      "(14197, b'motorcycle_s_001565.png')\n",
      "(14254, b'bicycle_s_000159.png')\n",
      "(14306, b'minibike_s_000035.png')\n",
      "(14312, b'safety_bicycle_s_000239.png')\n",
      "(14369, b'safety_bike_s_001640.png')\n",
      "(14418, b'minibike_s_000698.png')\n",
      "(14437, b'minibike_s_000967.png')\n",
      "(14485, b'safety_bike_s_000381.png')\n",
      "(14504, b'motorcycle_s_000216.png')\n",
      "(14551, b'bike_s_000855.png')\n",
      "(14679, b'motorcycle_s_001715.png')\n",
      "(14715, b'motorcycle_s_002275.png')\n",
      "(14783, b'safety_bike_s_001338.png')\n",
      "(14786, b'safety_bicycle_s_001705.png')\n",
      "(15007, b'minibike_s_000855.png')\n",
      "(15036, b'bicycle_s_002132.png')\n",
      "(15083, b'minibike_s_000218.png')\n",
      "(15108, b'safety_bike_s_000178.png')\n",
      "(15130, b'motorcycle_s_001584.png')\n",
      "(15177, b'safety_bicycle_s_000162.png')\n",
      "(15193, b'motorcycle_s_001392.png')\n",
      "(15267, b'bicycle_s_001814.png')\n",
      "(15312, b'motorbike_s_000362.png')\n",
      "(15335, b'minibike_s_000519.png')\n",
      "(15352, b'minibike_s_001417.png')\n",
      "(15361, b'safety_bike_s_000277.png')\n",
      "(15385, b'cycle_s_002090.png')\n",
      "(15444, b'bicycle_s_001168.png')\n",
      "(15447, b'minibike_s_000498.png')\n",
      "(15535, b'motorcycle_s_001400.png')\n",
      "(15564, b'motorcycle_s_000320.png')\n",
      "(15569, b'minibike_s_001734.png')\n",
      "(15600, b'cycle_s_002659.png')\n",
      "(15641, b'bike_s_000990.png')\n",
      "(15733, b'velocipede_s_000358.png')\n",
      "(15756, b'safety_bicycle_s_000568.png')\n",
      "(15830, b'motorcycle_s_000312.png')\n",
      "(15851, b'motorcycle_s_001686.png')\n",
      "(15867, b'cycle_s_001472.png')\n",
      "(15888, b'minibike_s_000064.png')\n",
      "(16015, b'safety_bike_s_001784.png')\n",
      "(16093, b'motorcycle_s_002236.png')\n",
      "(16124, b'minibike_s_000020.png')\n",
      "(16150, b'motorcycle_s_001182.png')\n",
      "(16185, b'bicycle_s_000781.png')\n",
      "(16271, b'ordinary_bicycle_s_000167.png')\n",
      "(16285, b'cycle_s_002666.png')\n",
      "(16380, b'dirt_bike_s_000134.png')\n",
      "(16402, b'bike_s_000015.png')\n",
      "(16416, b'bike_s_001767.png')\n",
      "(16417, b'motorcycle_s_001790.png')\n",
      "(16448, b'bike_s_001915.png')\n",
      "(16479, b'bike_s_001415.png')\n",
      "(16497, b'motorbike_s_000578.png')\n",
      "(16565, b'safety_bicycle_s_000532.png')\n",
      "(16568, b'ordinary_bicycle_s_000049.png')\n",
      "(16574, b'minibike_s_001639.png')\n",
      "(16606, b'bike_s_000129.png')\n",
      "(16609, b'minibike_s_001565.png')\n",
      "(16660, b'bike_s_002203.png')\n",
      "(16701, b'minibike_s_000401.png')\n",
      "(16800, b'safety_bicycle_s_001608.png')\n",
      "(16839, b'velocipede_s_000670.png')\n",
      "(17049, b'safety_bicycle_s_000207.png')\n",
      "(17073, b'motorcycle_s_001853.png')\n",
      "(17125, b'bike_s_002222.png')\n",
      "(17160, b'motorcycle_s_000004.png')\n",
      "(17165, b'motorcycle_s_000496.png')\n",
      "(17220, b'motorcycle_s_001492.png')\n",
      "(17250, b'bike_s_001761.png')\n",
      "(17257, b'velocipede_s_001299.png')\n",
      "(17310, b'bike_s_000040.png')\n",
      "(17373, b'cycle_s_003162.png')\n",
      "(17379, b'velocipede_s_001880.png')\n",
      "(17471, b'bike_s_002139.png')\n",
      "(17481, b'bicycle_s_001583.png')\n",
      "(17517, b'safety_bicycle_s_001706.png')\n",
      "(17540, b'bike_s_001200.png')\n",
      "(17648, b'motorcycle_s_000699.png')\n",
      "(17730, b'cycle_s_000492.png')\n",
      "(17971, b'cycle_s_000222.png')\n",
      "(17988, b'motorcycle_s_002162.png')\n",
      "(18020, b'minibike_s_000409.png')\n",
      "(18164, b'cycle_s_001735.png')\n",
      "(18232, b'bike_s_000657.png')\n",
      "(18322, b'safety_bike_s_000643.png')\n",
      "(18327, b'bike_s_000506.png')\n",
      "(18462, b'minibike_s_001348.png')\n",
      "(18518, b'moped_s_000065.png')\n",
      "(18556, b'bicycle_s_002729.png')\n",
      "(18664, b'bicycle_s_001687.png')\n",
      "(18671, b'bicycle_s_002338.png')\n",
      "(18787, b'motorcycle_s_000459.png')\n",
      "(18794, b'bike_s_000593.png')\n",
      "(18796, b'velocipede_s_001422.png')\n",
      "(18831, b'ordinary_bicycle_s_000347.png')\n",
      "(18892, b'minibike_s_001870.png')\n",
      "(18951, b'bicycle_s_001757.png')\n",
      "(18995, b'motorcycle_s_001016.png')\n",
      "(19015, b'motorbike_s_000041.png')\n",
      "(19021, b'bike_s_000522.png')\n",
      "(19152, b'ordinary_bicycle_s_000104.png')\n",
      "(19154, b'bike_s_000397.png')\n",
      "(19336, b'minibike_s_000802.png')\n",
      "(19343, b'trail_bike_s_000016.png')\n",
      "(19351, b'motorcycle_s_000686.png')\n",
      "(19511, b'velocipede_s_001935.png')\n",
      "(19518, b'safety_bike_s_000165.png')\n",
      "(19532, b'motorbike_s_000308.png')\n",
      "(19628, b'bike_s_000018.png')\n",
      "(19675, b'cycle_s_001976.png')\n",
      "(19701, b'minibike_s_000741.png')\n",
      "(19743, b'motorcycle_s_001236.png')\n",
      "(19849, b'moped_s_000071.png')\n",
      "(19925, b'bike_s_000164.png')\n",
      "(19933, b'bike_s_001739.png')\n",
      "(19941, b'bicycle_s_001388.png')\n",
      "(19958, b'bicycle_s_000149.png')\n",
      "(19972, b'motorcycle_s_002197.png')\n",
      "(20177, b'motorcycle_s_000277.png')\n",
      "(20221, b'motorcycle_s_001690.png')\n",
      "(20237, b'minibike_s_002048.png')\n",
      "(20267, b'motorcycle_s_000253.png')\n",
      "(20397, b'safety_bike_s_001010.png')\n",
      "(20498, b'motorcycle_s_000785.png')\n",
      "(20548, b'ordinary_bicycle_s_000387.png')\n",
      "(20580, b'cycle_s_001309.png')\n",
      "(20601, b'motorcycle_s_002316.png')\n",
      "(20647, b'motorcycle_s_000340.png')\n",
      "(20684, b'moped_s_000124.png')\n",
      "(20712, b'minibike_s_001917.png')\n",
      "(20733, b'bicycle_s_000951.png')\n",
      "(20806, b'motorcycle_s_000002.png')\n",
      "(20842, b'motorcycle_s_001063.png')\n",
      "(20870, b'motorcycle_s_001641.png')\n",
      "(20982, b'bicycle_s_002129.png')\n",
      "(20985, b'minibike_s_002182.png')\n",
      "(21067, b'minibike_s_000427.png')\n",
      "(21077, b'motorcycle_s_001438.png')\n",
      "(21309, b'motorcycle_s_000126.png')\n",
      "(21584, b'minibike_s_001865.png')\n",
      "(21687, b'motorcycle_s_000456.png')\n",
      "(21730, b'motorcycle_s_000252.png')\n",
      "(21945, b'bicycle_s_000043.png')\n",
      "(21956, b'bicycle_s_001928.png')\n",
      "(21959, b'safety_bike_s_000173.png')\n",
      "(22003, b'motorcycle_s_000696.png')\n",
      "(22004, b'motorcycle_s_001413.png')\n",
      "(22005, b'safety_bicycle_s_001303.png')\n",
      "(22026, b'motorcycle_s_001220.png')\n",
      "(22028, b'safety_bicycle_s_000079.png')\n",
      "(22116, b'bicycle_s_001681.png')\n",
      "(22173, b'cycle_s_002015.png')\n",
      "(22237, b'cycle_s_002746.png')\n",
      "(22275, b'minibike_s_001250.png')\n",
      "(22303, b'safety_bicycle_s_000303.png')\n",
      "(22304, b'bike_s_000392.png')\n",
      "(22355, b'minibike_s_000408.png')\n",
      "(22403, b'safety_bike_s_001355.png')\n",
      "(22480, b'motorcycle_s_000076.png')\n",
      "(22516, b'safety_bicycle_s_000322.png')\n",
      "(22535, b'bike_s_002090.png')\n",
      "(22564, b'motorcycle_s_000796.png')\n",
      "(22565, b'motorbike_s_000225.png')\n",
      "(22581, b'motorcycle_s_000050.png')\n",
      "(22661, b'bike_s_000474.png')\n",
      "(22673, b'motorcycle_s_000127.png')\n",
      "(22699, b'motorcycle_s_002193.png')\n",
      "(22748, b'bicycle_s_002374.png')\n",
      "(22760, b'minibike_s_001558.png')\n",
      "(22793, b'velocipede_s_001279.png')\n",
      "(22807, b'minibike_s_001496.png')\n",
      "(22811, b'bicycle_s_001411.png')\n",
      "(22816, b'minibike_s_001072.png')\n",
      "(22852, b'bicycle_s_001688.png')\n",
      "(22862, b'safety_bike_s_000160.png')\n",
      "(22947, b'minibike_s_000820.png')\n",
      "(22948, b'ordinary_bicycle_s_000298.png')\n",
      "(22967, b'bicycle_s_000314.png')\n",
      "(22983, b'motorcycle_s_001862.png')\n",
      "(23228, b'minibike_s_001575.png')\n",
      "(23274, b'minibike_s_000709.png')\n",
      "(23335, b'velocipede_s_000931.png')\n",
      "(23351, b'safety_bike_s_000104.png')\n",
      "(23537, b'motorcycle_s_001197.png')\n",
      "(23587, b'motorbike_s_000115.png')\n",
      "(23603, b'bicycle_s_002728.png')\n",
      "(23616, b'safety_bike_s_001474.png')\n",
      "(23669, b'bike_s_002024.png')\n",
      "(23715, b'cycle_s_000666.png')\n",
      "(23744, b'motorcycle_s_000617.png')\n",
      "(23763, b'safety_bike_s_000461.png')\n",
      "(23888, b'bike_s_001572.png')\n",
      "(23908, b'motorcycle_s_000003.png')\n",
      "(23986, b'bicycle_s_002029.png')\n",
      "(24103, b'minibike_s_000701.png')\n",
      "(24124, b'motorbike_s_000009.png')\n",
      "(24130, b'minibike_s_001789.png')\n",
      "(24170, b'motorcycle_s_000417.png')\n",
      "(24182, b'motorcycle_s_000246.png')\n",
      "(24246, b'minibike_s_000886.png')\n",
      "(24284, b'motorcycle_s_000154.png')\n",
      "(24343, b'minibike_s_001169.png')\n",
      "(24411, b'cycle_s_002904.png')\n",
      "(24461, b'motorcycle_s_000772.png')\n",
      "(24467, b'velocipede_s_001158.png')\n",
      "(24501, b'bicycle_s_002521.png')\n",
      "(24505, b'minibike_s_001179.png')\n",
      "(24570, b'bicycle_s_001111.png')\n",
      "(24655, b'bicycle_s_001205.png')\n",
      "(24723, b'bicycle_s_000435.png')\n",
      "(24804, b'minibike_s_001771.png')\n",
      "(24813, b'motorcycle_s_000545.png')\n",
      "(25033, b'moped_s_000004.png')\n",
      "(25035, b'velocipede_s_001358.png')\n",
      "(25230, b'motorcycle_s_001402.png')\n",
      "(25319, b'minibike_s_001836.png')\n",
      "(25320, b'motorcycle_s_002067.png')\n",
      "(25326, b'bicycle_s_002012.png')\n",
      "(25346, b'motorcycle_s_000517.png')\n",
      "(25349, b'minibike_s_001345.png')\n",
      "(25350, b'minibike_s_000522.png')\n",
      "(25371, b'motorcycle_s_000700.png')\n",
      "(25476, b'motorcycle_s_001183.png')\n",
      "(25509, b'velocipede_s_001874.png')\n",
      "(25568, b'cycle_s_003006.png')\n",
      "(25584, b'motorcycle_s_000170.png')\n",
      "(25640, b'ordinary_bicycle_s_000419.png')\n",
      "(25645, b'motorcycle_s_000284.png')\n",
      "(25734, b'motorbike_s_000035.png')\n",
      "(25863, b'dirt_bike_s_000005.png')\n",
      "(25866, b'motorcycle_s_001784.png')\n",
      "(25871, b'motorcycle_s_001848.png')\n",
      "(26026, b'minibike_s_002046.png')\n",
      "(26050, b'motorcycle_s_002317.png')\n",
      "(26060, b'bike_s_001980.png')\n",
      "(26108, b'safety_bike_s_000950.png')\n",
      "(26114, b'bicycle_s_002237.png')\n",
      "(26173, b'cycle_s_000042.png')\n",
      "(26185, b'bike_s_000628.png')\n",
      "(26216, b'bike_s_000005.png')\n",
      "(26228, b'ordinary_bicycle_s_000324.png')\n",
      "(26326, b'motorcycle_s_000346.png')\n",
      "(26371, b'safety_bicycle_s_000789.png')\n",
      "(26468, b'ordinary_bicycle_s_000011.png')\n",
      "(26486, b'minibike_s_001157.png')\n",
      "(26487, b'bike_s_000051.png')\n",
      "(26491, b'motorcycle_s_000919.png')\n",
      "(26529, b'velocipede_s_001514.png')\n",
      "(26549, b'bike_s_001592.png')\n",
      "(26635, b'ordinary_bicycle_s_000066.png')\n",
      "(26648, b'bicycle_s_001470.png')\n",
      "(26890, b'motorcycle_s_001695.png')\n",
      "(26944, b'motorcycle_s_001215.png')\n",
      "(26948, b'bike_s_002098.png')\n",
      "(26971, b'bike_s_001928.png')\n",
      "(27008, b'bicycle_s_001748.png')\n",
      "(27125, b'motorcycle_s_001520.png')\n",
      "(27134, b'safety_bicycle_s_000728.png')\n",
      "(27154, b'motorcycle_s_000925.png')\n",
      "(27198, b'safety_bike_s_000914.png')\n",
      "(27219, b'safety_bike_s_001659.png')\n",
      "(27233, b'safety_bike_s_000155.png')\n",
      "(27274, b'bicycle_s_002153.png')\n",
      "(27301, b'safety_bike_s_001715.png')\n",
      "(27306, b'bicycle_s_000035.png')\n",
      "(27326, b'bicycle_s_002669.png')\n",
      "(27345, b'bike_s_002277.png')\n",
      "(27375, b'ordinary_bicycle_s_000265.png')\n",
      "(27425, b'bicycle_s_000369.png')\n",
      "(27526, b'velocipede_s_001298.png')\n",
      "(27614, b'minibike_s_001944.png')\n",
      "(27656, b'motorcycle_s_002215.png')\n",
      "(27691, b'ordinary_bicycle_s_000008.png')\n",
      "(27747, b'bicycle_s_000491.png')\n",
      "(27777, b'motorcycle_s_000146.png')\n",
      "(27788, b'minibike_s_001261.png')\n",
      "(27808, b'safety_bicycle_s_000140.png')\n",
      "(27920, b'motorcycle_s_000407.png')\n",
      "(27961, b'minibike_s_000099.png')\n",
      "(27963, b'motorcycle_s_001767.png')\n",
      "(28014, b'safety_bike_s_000263.png')\n",
      "(28051, b'motorcycle_s_001205.png')\n",
      "(28062, b'motorbike_s_000134.png')\n",
      "(28067, b'safety_bike_s_000245.png')\n",
      "(28073, b'motorcycle_s_000422.png')\n",
      "(28147, b'minibike_s_000800.png')\n",
      "(28259, b'minibike_s_001829.png')\n",
      "(28295, b'minibike_s_002124.png')\n",
      "(28311, b'bike_s_001414.png')\n",
      "(28368, b'motorcycle_s_000423.png')\n",
      "(28396, b'motorcycle_s_001435.png')\n",
      "(28421, b'motorcycle_s_001237.png')\n",
      "(28424, b'motorcycle_s_001878.png')\n",
      "(28500, b'cycle_s_002093.png')\n",
      "(28530, b'velocipede_s_000265.png')\n",
      "(28559, b'bike_s_001847.png')\n",
      "(28698, b'cycle_s_000463.png')\n",
      "(28879, b'motorcycle_s_002140.png')\n",
      "(28898, b'motorcycle_s_001246.png')\n",
      "(29044, b'bike_s_001517.png')\n",
      "(29119, b'motorcycle_s_000219.png')\n",
      "(29180, b'motorbike_s_000501.png')\n",
      "(29185, b'velocipede_s_001872.png')\n",
      "(29236, b'motorcycle_s_001337.png')\n",
      "(29237, b'motorcycle_s_000169.png')\n",
      "(29245, b'motorcycle_s_000347.png')\n",
      "(29351, b'ordinary_bicycle_s_000274.png')\n",
      "(29430, b'safety_bicycle_s_000196.png')\n",
      "(29550, b'bicycle_s_002049.png')\n",
      "(29553, b'minibike_s_000010.png')\n",
      "(29586, b'motorcycle_s_002121.png')\n",
      "(29825, b'motorbike_s_000060.png')\n",
      "(29857, b'motorbike_s_000534.png')\n",
      "(29923, b'ordinary_bicycle_s_000286.png')\n",
      "(29966, b'bicycle_s_000723.png')\n",
      "(29988, b'bicycle_s_000066.png')\n",
      "(30008, b'motorcycle_s_000741.png')\n",
      "(30247, b'minibike_s_001168.png')\n",
      "(30293, b'bike_s_000001.png')\n",
      "(30301, b'minibike_s_001491.png')\n",
      "(30395, b'motorcycle_s_000430.png')\n",
      "(30497, b'motorcycle_s_000026.png')\n",
      "(30526, b'bicycle_s_002448.png')\n",
      "(30584, b'cycle_s_001412.png')\n",
      "(30611, b'motorcycle_s_000714.png')\n",
      "(30959, b'motorcycle_s_000319.png')\n",
      "(30971, b'safety_bicycle_s_001254.png')\n",
      "(31026, b'ordinary_bicycle_s_000205.png')\n",
      "(31105, b'bicycle_s_002400.png')\n",
      "(31164, b'motorcycle_s_001126.png')\n",
      "(31181, b'bike_s_000364.png')\n",
      "(31209, b'ordinary_bicycle_s_000096.png')\n",
      "(31230, b'bike_s_000204.png')\n",
      "(31243, b'motorcycle_s_001181.png')\n",
      "(31260, b'minibike_s_001450.png')\n",
      "(31319, b'minibike_s_000130.png')\n",
      "(31343, b'motorcycle_s_002214.png')\n",
      "(31370, b'motorcycle_s_001263.png')\n",
      "(31378, b'minibike_s_000568.png')\n",
      "(31381, b'bicycle_s_000774.png')\n",
      "(31476, b'ordinary_bicycle_s_000125.png')\n",
      "(31518, b'minibike_s_001731.png')\n",
      "(31528, b'bicycle_s_000243.png')\n",
      "(31601, b'motorcycle_s_000029.png')\n",
      "(31654, b'velocipede_s_000023.png')\n",
      "(31706, b'minibike_s_001701.png')\n",
      "(31779, b'ordinary_bicycle_s_000035.png')\n",
      "(31882, b'safety_bike_s_000244.png')\n",
      "(31889, b'bicycle_s_000137.png')\n",
      "(31900, b'motorbike_s_000331.png')\n",
      "(31954, b'motorcycle_s_000120.png')\n",
      "(32023, b'velocipede_s_000989.png')\n",
      "(32078, b'moped_s_000135.png')\n",
      "(32143, b'bicycle_s_000569.png')\n",
      "(32183, b'safety_bicycle_s_001699.png')\n",
      "(32320, b'bicycle_s_000399.png')\n",
      "(32321, b'bike_s_002033.png')\n",
      "(32392, b'ordinary_bicycle_s_000280.png')\n",
      "(32551, b'bike_s_002283.png')\n",
      "(32573, b'cycle_s_001413.png')\n",
      "(32652, b'dirt_bike_s_000059.png')\n",
      "(32674, b'motorcycle_s_001699.png')\n",
      "(32677, b'motorcycle_s_000687.png')\n",
      "(32713, b'bike_s_000304.png')\n",
      "(32746, b'motorcycle_s_002192.png')\n",
      "(32788, b'motorcycle_s_000887.png')\n",
      "(32842, b'bike_s_002042.png')\n",
      "(32849, b'bicycle_s_000467.png')\n",
      "(32868, b'motorcycle_s_001706.png')\n",
      "(32974, b'minibike_s_002176.png')\n",
      "(32999, b'safety_bicycle_s_000760.png')\n",
      "(33025, b'bicycle_s_000546.png')\n",
      "(33075, b'safety_bike_s_000158.png')\n",
      "(33078, b'bicycle_s_001679.png')\n",
      "(33128, b'motorcycle_s_000924.png')\n",
      "(33226, b'bicycle_s_000996.png')\n",
      "(33274, b'motorcycle_s_000432.png')\n",
      "(33385, b'ordinary_bicycle_s_000277.png')\n",
      "(33388, b'bike_s_002164.png')\n",
      "(33413, b'minibike_s_000036.png')\n",
      "(33457, b'motorbike_s_000062.png')\n",
      "(33501, b'motorcycle_s_000133.png')\n",
      "(33544, b'safety_bike_s_000328.png')\n",
      "(33548, b'safety_bicycle_s_001028.png')\n",
      "(33569, b'minibike_s_001506.png')\n",
      "(33570, b'motorcycle_s_001549.png')\n",
      "(33609, b'bike_s_002292.png')\n",
      "(33668, b'bike_s_000121.png')\n",
      "(33856, b'motorcycle_s_001167.png')\n",
      "(33858, b'bicycle_s_000124.png')\n",
      "(33870, b'motorcycle_s_002237.png')\n",
      "(33948, b'velocipede_s_001870.png')\n",
      "(34039, b'moped_s_000119.png')\n",
      "(34076, b'minibike_s_000121.png')\n",
      "(34145, b'motorcycle_s_000928.png')\n",
      "(34150, b'minibike_s_001881.png')\n",
      "(34172, b'bike_s_000679.png')\n",
      "(34221, b'motorcycle_s_002183.png')\n",
      "(34346, b'bike_s_000111.png')\n",
      "(34354, b'bike_s_001260.png')\n",
      "(34391, b'safety_bicycle_s_000660.png')\n",
      "(34397, b'motorcycle_s_000695.png')\n",
      "(34413, b'safety_bicycle_s_000233.png')\n",
      "(34434, b'motorcycle_s_000792.png')\n",
      "(34468, b'motorcycle_s_000922.png')\n",
      "(34500, b'bicycle_s_002711.png')\n",
      "(34563, b'bike_s_000390.png')\n",
      "(34614, b'minibike_s_001094.png')\n",
      "(34616, b'minibike_s_000507.png')\n",
      "(34627, b'motorcycle_s_001213.png')\n",
      "(34644, b'bike_s_000154.png')\n",
      "(34685, b'motorcycle_s_000223.png')\n",
      "(34717, b'bicycle_s_002661.png')\n",
      "(34719, b'safety_bicycle_s_000232.png')\n",
      "(34794, b'bicycle_s_001663.png')\n",
      "(34826, b'motorbike_s_000463.png')\n",
      "(34861, b'minibike_s_002137.png')\n",
      "(34882, b'safety_bicycle_s_001651.png')\n",
      "(34903, b'motorcycle_s_000151.png')\n",
      "(34916, b'motorcycle_s_000217.png')\n",
      "(34945, b'bike_s_001877.png')\n",
      "(35094, b'velocipede_s_001278.png')\n",
      "(35095, b'minibike_s_001540.png')\n",
      "(35206, b'minibike_s_001885.png')\n",
      "(35210, b'velocipede_s_000012.png')\n",
      "(35211, b'bicycle_s_001956.png')\n",
      "(35212, b'ordinary_bicycle_s_000098.png')\n",
      "(35238, b'bicycle_s_002725.png')\n",
      "(35252, b'velocipede_s_001210.png')\n",
      "(35368, b'bicycle_s_000039.png')\n",
      "(35481, b'motorcycle_s_000654.png')\n",
      "(35552, b'safety_bike_s_000079.png')\n",
      "(35589, b'motorcycle_s_002291.png')\n",
      "(35617, b'cycle_s_002168.png')\n",
      "(35695, b'bike_s_001078.png')\n",
      "(35716, b'motorbike_s_000427.png')\n",
      "(35747, b'minibike_s_001921.png')\n",
      "(35760, b'motorcycle_s_000917.png')\n",
      "(35813, b'velocipede_s_001920.png')\n",
      "(35817, b'cycle_s_003026.png')\n",
      "(35876, b'motorcycle_s_000543.png')\n",
      "(35988, b'minibike_s_000491.png')\n",
      "(36091, b'motorcycle_s_001439.png')\n",
      "(36150, b'minibike_s_002084.png')\n",
      "(36188, b'bicycle_s_000775.png')\n",
      "(36200, b'motorcycle_s_000262.png')\n",
      "(36253, b'moped_s_000237.png')\n",
      "(36269, b'bicycle_s_000978.png')\n",
      "(36286, b'bike_s_000162.png')\n",
      "(36302, b'motorbike_s_000106.png')\n",
      "(36333, b'motorcycle_s_000136.png')\n",
      "(36476, b'motorcycle_s_001319.png')\n",
      "(36493, b'safety_bicycle_s_000125.png')\n",
      "(36512, b'bicycle_s_001402.png')\n",
      "(36530, b'minibike_s_000511.png')\n",
      "(36614, b'motorcycle_s_000332.png')\n",
      "(36650, b'motorcycle_s_001315.png')\n",
      "(36744, b'ordinary_bicycle_s_000031.png')\n",
      "(36907, b'motorcycle_s_000353.png')\n",
      "(36957, b'motorcycle_s_000521.png')\n",
      "(36996, b'safety_bicycle_s_000860.png')\n",
      "(37008, b'motorcycle_s_002153.png')\n",
      "(37024, b'safety_bicycle_s_000324.png')\n",
      "(37081, b'ordinary_bicycle_s_000112.png')\n",
      "(37096, b'motorbike_s_000068.png')\n",
      "(37180, b'motorcycle_s_002254.png')\n",
      "(37256, b'motorcycle_s_000989.png')\n",
      "(37435, b'motorcycle_s_000622.png')\n",
      "(37439, b'bike_s_000545.png')\n",
      "(37469, b'ordinary_bicycle_s_000099.png')\n",
      "(37517, b'safety_bike_s_001257.png')\n",
      "(37539, b'bicycle_s_001203.png')\n",
      "(37560, b'safety_bicycle_s_001085.png')\n",
      "(37568, b'motorcycle_s_002222.png')\n",
      "(37594, b'safety_bicycle_s_001639.png')\n",
      "(37733, b'velocipede_s_001222.png')\n",
      "(37790, b'minibike_s_000392.png')\n",
      "(37814, b'ordinary_bicycle_s_000308.png')\n",
      "(37853, b'motorcycle_s_001896.png')\n",
      "(37872, b'motorcycle_s_000325.png')\n",
      "(37912, b'bicycle_s_000986.png')\n",
      "(37918, b'safety_bicycle_s_000373.png')\n",
      "(37958, b'safety_bicycle_s_000348.png')\n",
      "(38017, b'bicycle_s_002005.png')\n",
      "(38021, b'minibike_s_002130.png')\n",
      "(38126, b'safety_bike_s_000867.png')\n",
      "(38229, b'bicycle_s_002475.png')\n",
      "(38230, b'minibike_s_001193.png')\n",
      "(38322, b'minibike_s_001366.png')\n",
      "(38367, b'motorcycle_s_001711.png')\n",
      "(38382, b'minibike_s_001275.png')\n",
      "(38391, b'velocipede_s_001907.png')\n",
      "(38573, b'motorcycle_s_000207.png')\n",
      "(38752, b'motorcycle_s_001409.png')\n",
      "(38915, b'safety_bicycle_s_000261.png')\n",
      "(38936, b'minibike_s_000738.png')\n",
      "(38973, b'motorcycle_s_001106.png')\n",
      "(39117, b'safety_bike_s_000198.png')\n",
      "(39131, b'minibike_s_001479.png')\n",
      "(39157, b'velocipede_s_000430.png')\n",
      "(39276, b'bicycle_s_001409.png')\n",
      "(39282, b'motorcycle_s_000938.png')\n",
      "(39287, b'motorcycle_s_000941.png')\n",
      "(39380, b'bicycle_s_000038.png')\n",
      "(39397, b'minibike_s_001016.png')\n",
      "(39445, b'velocipede_s_001200.png')\n",
      "(39632, b'bike_s_002109.png')\n",
      "(39754, b'cycle_s_002092.png')\n",
      "(39781, b'motorcycle_s_002066.png')\n",
      "(39848, b'motorcycle_s_001920.png')\n",
      "(39915, b'minibike_s_000459.png')\n",
      "(39967, b'bicycle_s_001904.png')\n",
      "(39972, b'minibike_s_001996.png')\n",
      "(39990, b'motorcycle_s_001611.png')\n",
      "(40041, b'velocipede_s_001141.png')\n",
      "(40050, b'minibike_s_001747.png')\n",
      "(40081, b'safety_bicycle_s_001029.png')\n",
      "(40156, b'ordinary_bicycle_s_000029.png')\n",
      "(40171, b'minibike_s_002163.png')\n",
      "(40189, b'safety_bike_s_001148.png')\n",
      "(40248, b'cycle_s_003008.png')\n",
      "(40455, b'bicycle_s_000099.png')\n",
      "(40496, b'minibike_s_000429.png')\n",
      "(40537, b'bike_s_000003.png')\n",
      "(40561, b'cycle_s_002178.png')\n",
      "(40686, b'cycle_s_000639.png')\n",
      "(40797, b'motorcycle_s_000734.png')\n",
      "(40892, b'motorcycle_s_000309.png')\n",
      "(40951, b'bicycle_s_000371.png')\n",
      "(41043, b'minibike_s_001270.png')\n",
      "(41044, b'minibike_s_000914.png')\n",
      "(41086, b'moped_s_000021.png')\n",
      "(41144, b'motorcycle_s_000242.png')\n",
      "(41180, b'minibike_s_000314.png')\n",
      "(41294, b'motorcycle_s_000698.png')\n",
      "(41306, b'motorcycle_s_001360.png')\n",
      "(41343, b'ordinary_bicycle_s_000157.png')\n",
      "(41439, b'minibike_s_001838.png')\n",
      "(41548, b'bicycle_s_002247.png')\n",
      "(41612, b'motorcycle_s_000027.png')\n",
      "(41694, b'minibike_s_000906.png')\n",
      "(41735, b'safety_bicycle_s_000500.png')\n",
      "(41800, b'minibike_s_002146.png')\n",
      "(41848, b'motorcycle_s_001242.png')\n",
      "(41982, b'motorcycle_s_001707.png')\n",
      "(42056, b'cycle_s_003043.png')\n",
      "(42107, b'safety_bicycle_s_001109.png')\n",
      "(42154, b'bike_s_001131.png')\n",
      "(42193, b'motorcycle_s_001118.png')\n",
      "(42315, b'bike_s_001418.png')\n",
      "(42499, b'bicycle_s_002550.png')\n",
      "(42539, b'bicycle_s_002100.png')\n",
      "(42543, b'motorcycle_s_000933.png')\n",
      "(42570, b'bicycle_s_002624.png')\n",
      "(42613, b'safety_bicycle_s_001063.png')\n",
      "(42732, b'motorbike_s_000361.png')\n",
      "(42768, b'safety_bicycle_s_000193.png')\n",
      "(42856, b'safety_bicycle_s_000092.png')\n",
      "(42861, b'motorcycle_s_000009.png')\n",
      "(42892, b'bicycle_s_001554.png')\n",
      "(42995, b'motorcycle_s_001297.png')\n",
      "(43033, b'safety_bicycle_s_000296.png')\n",
      "(43052, b'safety_bike_s_001371.png')\n",
      "(43316, b'bicycle_s_001569.png')\n",
      "(43338, b'motorcycle_s_001536.png')\n",
      "(43343, b'safety_bicycle_s_001659.png')\n",
      "(43412, b'ordinary_bicycle_s_000102.png')\n",
      "(43422, b'bike_s_002215.png')\n",
      "(43434, b'bicycle_s_002410.png')\n",
      "(43464, b'cycle_s_003147.png')\n",
      "(43468, b'bicycle_s_002759.png')\n",
      "(43481, b'minibike_s_000335.png')\n",
      "(43550, b'safety_bike_s_000848.png')\n",
      "(43559, b'velocipede_s_000807.png')\n",
      "(43573, b'bike_s_000024.png')\n",
      "(43593, b'minibike_s_000435.png')\n",
      "(43594, b'minibike_s_001498.png')\n",
      "(43688, b'velocipede_s_001166.png')\n",
      "(43762, b'motorcycle_s_001012.png')\n",
      "(43847, b'velocipede_s_000330.png')\n",
      "(43895, b'motorcycle_s_000032.png')\n",
      "(43981, b'minibike_s_001597.png')\n",
      "(44000, b'motorcycle_s_002298.png')\n",
      "(44015, b'minibike_s_000102.png')\n",
      "(44142, b'motorcycle_s_001507.png')\n",
      "(44291, b'motorbike_s_000022.png')\n",
      "(44300, b'motorcycle_s_000594.png')\n",
      "(44351, b'minibike_s_001539.png')\n",
      "(44423, b'bicycle_s_001228.png')\n",
      "(44464, b'minibike_s_001344.png')\n",
      "(44468, b'motorcycle_s_002271.png')\n",
      "(44506, b'motorcycle_s_000791.png')\n",
      "(44543, b'ordinary_bicycle_s_000218.png')\n",
      "(44551, b'motorcycle_s_000221.png')\n",
      "(44553, b'minibike_s_001691.png')\n",
      "(44635, b'motorcycle_s_001209.png')\n",
      "(44666, b'ordinary_bicycle_s_000101.png')\n",
      "(44678, b'motorcycle_s_001326.png')\n",
      "(44702, b'minibike_s_001249.png')\n",
      "(44709, b'bicycle_s_000408.png')\n",
      "(44862, b'minibike_s_000520.png')\n",
      "(44863, b'minibike_s_002218.png')\n",
      "(44927, b'minibike_s_001458.png')\n",
      "(44967, b'moped_s_000034.png')\n",
      "(45046, b'motorbike_s_000119.png')\n",
      "(45191, b'motorcycle_s_001027.png')\n",
      "(45233, b'cycle_s_001477.png')\n",
      "(45336, b'motorcycle_s_001710.png')\n",
      "(45393, b'minibike_s_000434.png')\n",
      "(45442, b'motorcycle_s_000979.png')\n",
      "(45449, b'safety_bike_s_001289.png')\n",
      "(45461, b'safety_bike_s_001560.png')\n",
      "(45483, b'minibike_s_000011.png')\n",
      "(45489, b'bicycle_s_001642.png')\n",
      "(45529, b'minibike_s_000527.png')\n",
      "(45605, b'bicycle_s_001245.png')\n",
      "(45638, b'bike_s_000934.png')\n",
      "(45673, b'velocipede_s_001244.png')\n",
      "(45676, b'velocipede_s_001882.png')\n",
      "(45692, b'bike_s_001683.png')\n",
      "(45763, b'minibike_s_000127.png')\n",
      "(45769, b'bicycle_s_001002.png')\n",
      "(45807, b'moped_s_000044.png')\n",
      "(45847, b'bike_s_000025.png')\n",
      "(45859, b'minibike_s_000690.png')\n",
      "(45950, b'minibike_s_000022.png')\n",
      "(46022, b'motorcycle_s_001196.png')\n",
      "(46106, b'ordinary_bicycle_s_000269.png')\n",
      "(46157, b'cycle_s_002503.png')\n",
      "(46161, b'ordinary_bicycle_s_000097.png')\n",
      "(46186, b'safety_bike_s_000009.png')\n",
      "(46203, b'safety_bike_s_000015.png')\n",
      "(46288, b'minibike_s_000613.png')\n",
      "(46316, b'motorcycle_s_001017.png')\n",
      "(46363, b'minibike_s_000203.png')\n",
      "(46389, b'velocipede_s_001489.png')\n",
      "(46515, b'minibike_s_000813.png')\n",
      "(46570, b'safety_bicycle_s_000425.png')\n",
      "(46667, b'motorcycle_s_001622.png')\n",
      "(46675, b'motorcycle_s_000593.png')\n",
      "(46724, b'minibike_s_000116.png')\n",
      "(46785, b'motorcycle_s_001563.png')\n",
      "(46899, b'cycle_s_001875.png')\n",
      "(46922, b'safety_bike_s_001590.png')\n",
      "(46955, b'minibike_s_000830.png')\n",
      "(46996, b'minibike_s_000570.png')\n",
      "(47175, b'bike_s_001380.png')\n",
      "(47180, b'moped_s_000236.png')\n",
      "(47302, b'motorcycle_s_000339.png')\n",
      "(47344, b'safety_bike_s_001465.png')\n",
      "(47374, b'motorcycle_s_001714.png')\n",
      "(47466, b'minibike_s_001191.png')\n",
      "(47469, b'cycle_s_002882.png')\n",
      "(47510, b'bicycle_s_000822.png')\n",
      "(47519, b'bike_s_001827.png')\n",
      "(47567, b'ordinary_bicycle_s_000110.png')\n",
      "(47721, b'minibike_s_000293.png')\n",
      "(47772, b'motorcycle_s_000249.png')\n",
      "(47792, b'ordinary_bicycle_s_000154.png')\n",
      "(47888, b'motorcycle_s_001527.png')\n",
      "(48028, b'motorcycle_s_001033.png')\n",
      "(48044, b'motorcycle_s_001709.png')\n",
      "(48045, b'bicycle_s_001348.png')\n",
      "(48089, b'minibike_s_002194.png')\n",
      "(48112, b'minibike_s_001079.png')\n",
      "(48198, b'bicycle_s_000017.png')\n",
      "(48220, b'minibike_s_001638.png')\n",
      "(48271, b'motorcycle_s_001587.png')\n",
      "(48295, b'motorcycle_s_000486.png')\n",
      "(48375, b'minibike_s_001880.png')\n",
      "(48546, b'dirt_bike_s_000003.png')\n",
      "(48553, b'bike_s_000336.png')\n",
      "(48575, b'minibike_s_002115.png')\n",
      "(48760, b'motorbike_s_000449.png')\n",
      "(48837, b'motorcycle_s_000304.png')\n",
      "(48887, b'motorcycle_s_000022.png')\n",
      "(48941, b'motorcycle_s_001623.png')\n",
      "(48958, b'motorbike_s_000223.png')\n",
      "(48980, b'motorcycle_s_000290.png')\n",
      "(49151, b'safety_bicycle_s_001327.png')\n",
      "(49172, b'bike_s_002288.png')\n",
      "(49176, b'minibike_s_000569.png')\n",
      "(49192, b'bike_s_002047.png')\n",
      "(49249, b'motorcycle_s_002031.png')\n",
      "(49452, b'bike_s_000062.png')\n",
      "(49485, b'cycle_s_000871.png')\n",
      "(49492, b'motorcycle_s_001778.png')\n",
      "(49578, b'velocipede_s_000010.png')\n",
      "(49588, b'motorcycle_s_001247.png')\n",
      "(49882, b'motorcycle_s_000724.png')\n",
      "(49962, b'velocipede_s_001637.png')\n",
      "(49985, b'motorcycle_s_000291.png')\n"
     ]
    }
   ],
   "source": [
    "#Saving all the Train dataset images\n",
    "for df_row in df_train.itertuples():\n",
    "    print(save_images(df_row.row, df_row.filenames,\"./train\", dataset_train))\n",
    "\n",
    "#Saving all the Test dataset images\n",
    "for df_row in df_test.itertuples():\n",
    "    print(save_images(df_row.row, df_row.filenames,\"./test\", dataset_test))"
   ]
  },
  {
   "cell_type": "markdown",
   "metadata": {},
   "source": [
    "### 7. Load the data\n",
    "\n",
    "Now we can load the data into S3.\n",
    "\n",
    "Using the sagemaker SDK grab the current region, execution role, and bucket."
   ]
  },
  {
   "cell_type": "code",
   "execution_count": null,
   "metadata": {},
   "outputs": [],
   "source": [
    "import sagemaker\n",
    "\n",
    "\n",
    "bucket= \"sidd0final0project0bucket\"\n",
    "print(\"Default Bucket: {}\".format(bucket))\n",
    "\n",
    "region = \"us-east-1\"\n",
    "print(\"AWS Region: {}\".format(region))\n",
    "\n",
    "role =\"arn:aws:iam::271232843618:role/service-role/AmazonSageMaker-ExecutionRole-20231021T211247\"\n",
    "print(\"RoleArn: {}\".format(role))"
   ]
  },
  {
   "cell_type": "markdown",
   "metadata": {},
   "source": [
    "With this data we can easily sync your data up into S3!"
   ]
  },
  {
   "cell_type": "code",
   "execution_count": null,
   "metadata": {},
   "outputs": [],
   "source": [
    "import os\n",
    "\n",
    "os.environ[\"DEFAULT_S3_BUCKET\"] = bucket\n",
    "!aws s3 sync ./train s3://${DEFAULT_S3_BUCKET}/train/\n",
    "!aws s3 sync ./test s3://${DEFAULT_S3_BUCKET}/test/"
   ]
  },
  {
   "cell_type": "markdown",
   "metadata": {},
   "source": [
    "## Model Training"
   ]
  },
  {
   "cell_type": "markdown",
   "metadata": {},
   "source": [
    "1. Create metadata for image classification on SageMaker\n",
    "    1. `train.lst`\n",
    "    2. `test.lst`\n",
    "\n",
    "\n",
    "\n",
    "2. Upload metadata to S3 using `boto3`\n",
    "3. Get algorithm using ECR image\n",
    "4. Create estimator\n",
    "    - `image_uri` will be the ECR image URI\n",
    "5. Add hyperparameters to the estimator\n",
    "\n",
    "6. Add model inputs\n",
    "    1. `Train data`\n",
    "    2. `Test data`\n",
    "    3. `Train metadata (train.lst)`\n",
    "    4. `Test metadata (test.lst)`\n",
    "\n",
    "\n",
    "7. Fit the model\n"
   ]
  },
  {
   "cell_type": "markdown",
   "metadata": {},
   "source": [
    "For Image Classification, Sagemaker [also expects metadata](https://docs.aws.amazon.com/sagemaker/latest/dg/image-classification.html) e.g. in the form of TSV files with labels and filepaths."
   ]
  },
  {
   "cell_type": "markdown",
   "metadata": {},
   "source": [
    "### 1. Creating metadata for image classification on SageMaker"
   ]
  },
  {
   "cell_type": "code",
   "execution_count": null,
   "metadata": {},
   "outputs": [],
   "source": [
    "def to_metadata_file(df, prefix):\n",
    "    df[\"s3_path\"] = df[\"filenames\"]\n",
    "    df[\"labels\"] = df[\"labels\"].apply(lambda x: 0 if x==8 else 1)\n",
    "    return df[[\"row\", \"labels\", \"s3_path\"]].to_csv(\n",
    "        f\"{prefix}.lst\", sep=\"\\t\", index=False, header=False\n",
    "    )\n",
    "    \n",
    "to_metadata_file(df_train.copy(), \"train\")\n",
    "to_metadata_file(df_test.copy(), \"test\")"
   ]
  },
  {
   "cell_type": "markdown",
   "metadata": {},
   "source": [
    "### 2. Uploading metadata to S3 using boto3\n"
   ]
  },
  {
   "cell_type": "code",
   "execution_count": null,
   "metadata": {},
   "outputs": [],
   "source": [
    "import boto3 # for interacting with AWS services\n",
    "\n",
    "# Upload files\n",
    "boto3.Session().resource('s3').Bucket(\n",
    "    bucket).Object('train.lst').upload_file('./train.lst')\n",
    "boto3.Session().resource('s3').Bucket(\n",
    "    bucket).Object('test.lst').upload_file('./test.lst')"
   ]
  },
  {
   "cell_type": "markdown",
   "metadata": {},
   "source": [
    "### 3. Getting algorithm using ECR image"
   ]
  },
  {
   "cell_type": "markdown",
   "metadata": {},
   "source": [
    "- Using the `bucket` and `region` info we can get the latest prebuilt container to run our training job, and define an output location on our s3 bucket for the model. \n",
    "- Use the `image_uris` function from the SageMaker SDK to retrieve the latest `image-classification` image below\n",
    "- The retrieve method is used to get the ECR (Elastic Container Registry) URI for a pre-built SageMaker Docker image."
   ]
  },
  {
   "cell_type": "code",
   "execution_count": null,
   "metadata": {},
   "outputs": [],
   "source": [
    "algo_image = sagemaker.image_uris.retrieve(\"image-classification\", region=region, version=\"latest\")"
   ]
  },
  {
   "cell_type": "markdown",
   "metadata": {},
   "source": [
    "### 4. Creating estimator"
   ]
  },
  {
   "cell_type": "code",
   "execution_count": null,
   "metadata": {},
   "outputs": [],
   "source": [
    "s3_output_location = f\"s3://{bucket}/models/image_model\""
   ]
  },
  {
   "cell_type": "code",
   "execution_count": null,
   "metadata": {},
   "outputs": [],
   "source": [
    "# Create the Estimator\n",
    "img_classifier_model=sagemaker.estimator.Estimator(\n",
    "    image_uri = algo_image,\n",
    "    role= role,\n",
    "    instance_count = 1,\n",
    "    instance_type = 'ml.p3.2xlarge',\n",
    "    output_path = s3_output_location,\n",
    "    sagemaker_session = sagemaker.Session()\n",
    ")"
   ]
  },
  {
   "cell_type": "markdown",
   "metadata": {},
   "source": [
    "### 5. Adding hyperparameters to the estimator"
   ]
  },
  {
   "cell_type": "code",
   "execution_count": null,
   "metadata": {},
   "outputs": [],
   "source": [
    "img_classifier_model.set_hyperparameters(\n",
    "    image_shape='3,32,32',\n",
    "    num_classes=2,\n",
    "    num_training_samples= df_train.shape[0]\n",
    ")"
   ]
  },
  {
   "cell_type": "markdown",
   "metadata": {},
   "source": [
    "### 6. Adding model inputs"
   ]
  },
  {
   "cell_type": "code",
   "execution_count": null,
   "metadata": {},
   "outputs": [],
   "source": [
    "from sagemaker.debugger import Rule, rule_configs\n",
    "from sagemaker.session import TrainingInput\n",
    "model_inputs = {\n",
    "        \"train\": sagemaker.inputs.TrainingInput(\n",
    "            s3_data=f\"s3://{bucket}/train/\",\n",
    "            content_type=\"application/x-image\"\n",
    "        ),\n",
    "        \"validation\": sagemaker.inputs.TrainingInput(\n",
    "            s3_data=f\"s3://{bucket}/test/\",\n",
    "            content_type=\"application/x-image\"\n",
    "        ),\n",
    "        \"train_lst\": sagemaker.inputs.TrainingInput(\n",
    "            s3_data=f\"s3://{bucket}/train.lst\",\n",
    "            content_type=\"application/x-image\"\n",
    "        ),\n",
    "        \"validation_lst\": sagemaker.inputs.TrainingInput(\n",
    "            s3_data=f\"s3://{bucket}/test.lst\",\n",
    "            content_type=\"application/x-image\"\n",
    "        )\n",
    "}"
   ]
  },
  {
   "cell_type": "markdown",
   "metadata": {},
   "source": [
    "### 7. Fitting the model"
   ]
  },
  {
   "cell_type": "code",
   "execution_count": null,
   "metadata": {},
   "outputs": [],
   "source": [
    "img_classifier_model.fit(inputs=model_inputs)"
   ]
  },
  {
   "cell_type": "markdown",
   "metadata": {},
   "source": [
    "- If all goes well, you'll end up with a model topping out above `.8` validation accuracy. With only 1000 training samples in the CIFAR dataset, that's pretty good.\n",
    "- We could definitely pursue data augmentation & gathering more samples to help us improve further, but for now let's proceed to deploy our model."
   ]
  },
  {
   "cell_type": "markdown",
   "metadata": {},
   "source": [
    "\n",
    "## Getting ready to deploy"
   ]
  },
  {
   "cell_type": "markdown",
   "metadata": {},
   "source": [
    "### 1. Creating data capture"
   ]
  },
  {
   "cell_type": "code",
   "execution_count": null,
   "metadata": {},
   "outputs": [],
   "source": [
    "from sagemaker.model_monitor import DataCaptureConfig #  to configure data capture for endpoints.\n",
    "\n",
    "# Define the destination S3 URI for data capture\n",
    "data_capture_config = DataCaptureConfig(\n",
    "    enable_capture=True, # input/output payloads will be captured.\n",
    "    sampling_percentage=100, # 100 means capturing data from every request.\n",
    "    destination_s3_uri=f\"s3://{bucket}/data_capture\" #  will be saved in this S3 bucket\n",
    ")\n"
   ]
  },
  {
   "cell_type": "markdown",
   "metadata": {},
   "source": [
    "### 2. Model deployment and creating the endpoint"
   ]
  },
  {
   "cell_type": "code",
   "execution_count": null,
   "metadata": {},
   "outputs": [],
   "source": [
    "deployment = img_classifier_model.deploy(\n",
    "    instance_type=\"ml.m5.xlarge\",  \n",
    "    initial_instance_count=1,\n",
    "    data_capture_config=data_capture_config,\n",
    ")"
   ]
  },
  {
   "cell_type": "code",
   "execution_count": null,
   "metadata": {
    "tags": []
   },
   "outputs": [],
   "source": [
    "endpoint = deployment.endpoint_name\n",
    "print(endpoint)"
   ]
  },
  {
   "cell_type": "markdown",
   "metadata": {},
   "source": [
    "### 3. Instantiating a predictor"
   ]
  },
  {
   "cell_type": "code",
   "execution_count": null,
   "metadata": {},
   "outputs": [],
   "source": [
    "predictor = sagemaker.predictor.Predictor(\n",
    "    endpoint_name=endpoint, \n",
    "    sagemaker_session=sagemaker.Session()\n",
    ")"
   ]
  },
  {
   "cell_type": "markdown",
   "metadata": {},
   "source": [
    "### 4. Making Prediction"
   ]
  },
  {
   "cell_type": "code",
   "execution_count": null,
   "metadata": {},
   "outputs": [],
   "source": [
    "from sagemaker.serializers import IdentitySerializer\n",
    "import base64\n",
    "\n",
    "predictor.serializer = IdentitySerializer(\"image/png\")\n",
    "with open(\"./test/bicycle_s_001789.png\", \"rb\") as f:\n",
    "    payload = f.read()\n",
    "\n",
    "    \n",
    "inference = predictor.predict(payload, initial_args={'ContentType': 'application/x-image'})"
   ]
  },
  {
   "cell_type": "code",
   "execution_count": null,
   "metadata": {},
   "outputs": [],
   "source": [
    "print(inference)"
   ]
  },
  {
   "cell_type": "markdown",
   "metadata": {},
   "source": [
    "- `inference` object is an array of two values, the predicted probability value for each of your classes (bicycle and motorcycle respectively.) \n",
    "- So, for example, a value of `b'[0.91, 0.09]'` indicates the probability of being a bike is 91% and being a motorcycle is 9%."
   ]
  },
  {
   "cell_type": "markdown",
   "metadata": {},
   "source": [
    "## Draft Lambdas and Step Function Workflow\n",
    "    1. Lambad 1: Serialize target data from S3\n",
    "    2. Lambad 2: Classification of image\n",
    "    3. Lambda 3: Check for confidence threshold"
   ]
  },
  {
   "cell_type": "markdown",
   "metadata": {},
   "source": [
    "### Lambad 1: Serialize target data from S3\n",
    "\n",
    "- Download an image file from an S3 bucket\n",
    "- Convert the image data into a base64-encoded format\n",
    "- Return this data along with some metadata as a response\n",
    "\n",
    "__event input__\n",
    "```\n",
    "{\n",
    "    \"s3_key\": \"test/bicycle_s_000030.png\",\n",
    "    \"s3_bucket\": \"ml-flow-sidd\"\n",
    "}\n",
    "```\n",
    "\n",
    "- The lambda_handler function is defined, which is the entry point for the Lambda function. \n",
    "- This function takes two parameters: event and context. \n",
    "- The event parameter contains information about the event that triggered the Lambda function\n"
   ]
  },
  {
   "cell_type": "code",
   "execution_count": 2,
   "metadata": {},
   "outputs": [],
   "source": [
    "import boto3\n",
    "import base64 #  for encoding and decoding data in base64 forma\n",
    "\n",
    "s3 = boto3.client('s3')\n",
    "\n",
    "def lambda_handler(event, context):\n",
    "    \"\"\"A function to serialize target data from S3\"\"\"\n",
    "    \n",
    "    key = event[\"s3_key\"]\n",
    "    bucket = event[\"s3_bucket\"]\n",
    "    \n",
    "    # Download the data from s3 to /tmp/image.png\n",
    "    boto3.resource('s3').Bucket(bucket).download_file(key, \"/tmp/image.png\")\n",
    "    \n",
    "    with open(\"/tmp/image.png\", \"rb\") as f:\n",
    "        image_data = base64.b64encode(f.read())\n",
    "\n",
    "    return {\n",
    "        'statusCode': 200,\n",
    "        'body': {\n",
    "            \"image_data\": image_data,\n",
    "            \"s3_bucket\": bucket,\n",
    "            \"s3_key\": key,\n",
    "            \"inferences\": []\n",
    "        }\n",
    "    }"
   ]
  },
  {
   "cell_type": "markdown",
   "metadata": {},
   "source": [
    "### Lambad 2: Classification of image"
   ]
  },
  {
   "cell_type": "markdown",
   "metadata": {},
   "source": [
    "- Creates a SageMaker runtime client using boto3.client('runtime.sagemaker') to interact with the SageMaker endpoint.\n",
    "- Send an image (in base64-encoded format) to an Amazon SageMaker endpoint for inference \n",
    "- Return the inference results"
   ]
  },
  {
   "cell_type": "code",
   "execution_count": null,
   "metadata": {},
   "outputs": [],
   "source": [
    "import boto3\n",
    "import json\n",
    "import base64\n",
    "\n",
    "ENDPOINT_NAME = endpoint\n",
    "\n",
    "# We will be using the AWS's lightweight runtime solution to invoke an endpoint.\n",
    "runtime = boto3.client('runtime.sagemaker')\n",
    "\n",
    "def lambda_handler(event, context):\n",
    "    \n",
    "    image = base64.b64decode(event['body']['image_data'])\n",
    "    \n",
    "    response = runtime.invoke_endpoint(EndpointName=ENDPOINT_NAME,\n",
    "                                       ContentType='image/png',\n",
    "                                       Body=image)\n",
    "    \n",
    "    event[\"inferences\"] = json.loads(response['Body'].read().decode('utf-8'))\n",
    "    return {\n",
    "        'statusCode': 200,\n",
    "        'body': event\n",
    "    }\n"
   ]
  },
  {
   "cell_type": "markdown",
   "metadata": {},
   "source": [
    "### Lambda 3: Check for confidence threshold"
   ]
  },
  {
   "cell_type": "code",
   "execution_count": null,
   "metadata": {},
   "outputs": [],
   "source": [
    "import json\n",
    "\n",
    "# Define the threshold for confidence\n",
    "THRESHOLD = 0.8 \n",
    "\n",
    "def lambda_handler(event, context):\n",
    "    \n",
    "    inferences =  event['body']['inferences']\n",
    "    \n",
    "    # Check if any values in our inferences are above THRESHOLD\n",
    "    meets_threshold = any(confidence >= THRESHOLD for confidence in inferences)\n",
    "    \n",
    "\n",
    "    # If our threshold is met, pass our data back out of the Step Function,\n",
    "    # else, end the Step Function with an error\n",
    "    if meets_threshold:\n",
    "        pass\n",
    "    else:\n",
    "        raise Exception(\"THRESHOLD_CONFIDENCE_NOT_MET\")\n",
    "    \n",
    "    return {\n",
    "        'statusCode': 200,\n",
    "        'body': json.dumps(event)\n",
    "    }\n"
   ]
  },
  {
   "cell_type": "markdown",
   "metadata": {},
   "source": [
    "\n",
    "## Testing and Evaluation"
   ]
  },
  {
   "cell_type": "markdown",
   "metadata": {},
   "source": [
    "### 1. Generating multiple test cases (event input for lambda 1)"
   ]
  },
  {
   "cell_type": "code",
   "execution_count": null,
   "metadata": {},
   "outputs": [],
   "source": [
    "import random\n",
    "import boto3\n",
    "import json\n",
    "\n",
    "\n",
    "def generate_test_case():\n",
    "    # Setup s3 in boto3\n",
    "    s3 = boto3.resource('s3')\n",
    "    \n",
    "    # Randomly pick from sfn or test folders in our bucket\n",
    "    objects = s3.Bucket(bucket).objects.filter(Prefix=\"test/\")\n",
    "    \n",
    "    # Grab any random object key from that folder!\n",
    "    obj = random.choice([x.key for x in objects])\n",
    "    \n",
    "    return json.dumps({\n",
    "        \"image_data\": \"\",\n",
    "        \"s3_bucket\": bucket,\n",
    "        \"s3_key\": obj\n",
    "    })\n",
    "generate_test_case()"
   ]
  },
  {
   "cell_type": "markdown",
   "metadata": {},
   "source": [
    "### 2. Pulling in the JSONLines data from your inferences\n",
    "\n",
    "    1. Downloading the capture (in JSONL format)\n",
    "    2. Extracting JSONL format in dict\n",
    "    3. Loading inferences along with timestamp\n",
    "    4. Visulaizing (the input images, the resulting inferences, and the timestamps.)\n",
    "    \n",
    " - The data are in JSONLines format, where multiple valid JSON objects are stacked on top of eachother in a single `jsonl` file."
   ]
  },
  {
   "cell_type": "code",
   "execution_count": null,
   "metadata": {},
   "outputs": [],
   "source": [
    "from sagemaker.s3 import S3Downloader #  utilities for downloading data from Amazon S3.\n",
    "\n",
    "# In S3 your data will be saved to a datetime-aware path\n",
    "data_path = \"s3://sidd0final0project0bucket/data_capture/image-classification-2023-10-25-10-26-31-173/AllTraffic/2023/10/26/14/\"\n",
    "\n",
    "S3Downloader.download(data_path, \"captured_data\")"
   ]
  },
  {
   "cell_type": "code",
   "execution_count": null,
   "metadata": {},
   "outputs": [],
   "source": [
    "!pip install jsonlines\n",
    "\n",
    "import jsonlines\n",
    "import os\n",
    "\n",
    "# List the file names we downloaded\n",
    "file_handles = os.listdir(\"./captured_data\")\n",
    "\n",
    "# Dump all the data into an array\n",
    "json_data = []\n",
    "for jsonl in file_handles:\n",
    "    with jsonlines.open(f\"./captured_data/{jsonl}\") as f:\n",
    "        json_data.append(f.read())"
   ]
  },
  {
   "cell_type": "code",
   "execution_count": null,
   "metadata": {},
   "outputs": [],
   "source": [
    "# Define how we'll get our data\n",
    "def simple_getter(obj):\n",
    "    inferences = obj[\"captureData\"][\"endpointOutput\"][\"data\"]\n",
    "    timestamp = obj[\"eventMetadata\"][\"inferenceTime\"]\n",
    "    return json.loads(inferences), timestamp"
   ]
  },
  {
   "cell_type": "code",
   "execution_count": null,
   "metadata": {},
   "outputs": [],
   "source": [
    "import matplotlib.pyplot as plt\n",
    "\n",
    "# Populate the data for the x and y axis\n",
    "x = []\n",
    "y = []\n",
    "for obj in json_data:\n",
    "    inference, timestamp = simple_getter(obj)\n",
    "    \n",
    "    y.append(max(inference))\n",
    "    x.append(timestamp)\n",
    "\n",
    "# Plot the data\n",
    "plt.scatter(x, y, c=['r' if k<. else 'b' for k in y ])\n",
    "plt.axhline(y=0.8, color='g', linestyle='--')\n",
    "plt.ylim(bottom=.6)\n",
    "\n",
    "# Add labels\n",
    "plt.ylabel(\"Confidence\")\n",
    "plt.suptitle(\"Observed Recent Inferences\", size=14)\n",
    "plt.title(\"Pictured with confidence threshold for production use\", size=10)\n",
    "\n",
    "# Give it some pizzaz!\n",
    "plt.style.use(\"Solarize_Light2\")\n",
    "plt.gcf().autofmt_xdate()\n",
    "\n",
    "plt.show()"
   ]
  },
  {
   "cell_type": "markdown",
   "metadata": {},
   "source": [
    "### Todo: build your own visualization\n"
   ]
  },
  {
   "cell_type": "code",
   "execution_count": null,
   "metadata": {
    "tags": []
   },
   "outputs": [],
   "source": [
    "plt.figure(figsize=(15,5))\n",
    "plt.plot(x, y)    \n",
    "plt.xlabel(\"Inference\")\n",
    "plt.ylabel(\"Confidence Level\")\n",
    "plt.gcf().autofmt_xdate()\n",
    "plt.show()"
   ]
  }
 ],
 "metadata": {
  "availableInstances": [
   {
    "_defaultOrder": 0,
    "_isFastLaunch": true,
    "category": "General purpose",
    "gpuNum": 0,
    "hideHardwareSpecs": false,
    "memoryGiB": 4,
    "name": "ml.t3.medium",
    "vcpuNum": 2
   },
   {
    "_defaultOrder": 1,
    "_isFastLaunch": false,
    "category": "General purpose",
    "gpuNum": 0,
    "hideHardwareSpecs": false,
    "memoryGiB": 8,
    "name": "ml.t3.large",
    "vcpuNum": 2
   },
   {
    "_defaultOrder": 2,
    "_isFastLaunch": false,
    "category": "General purpose",
    "gpuNum": 0,
    "hideHardwareSpecs": false,
    "memoryGiB": 16,
    "name": "ml.t3.xlarge",
    "vcpuNum": 4
   },
   {
    "_defaultOrder": 3,
    "_isFastLaunch": false,
    "category": "General purpose",
    "gpuNum": 0,
    "hideHardwareSpecs": false,
    "memoryGiB": 32,
    "name": "ml.t3.2xlarge",
    "vcpuNum": 8
   },
   {
    "_defaultOrder": 4,
    "_isFastLaunch": true,
    "category": "General purpose",
    "gpuNum": 0,
    "hideHardwareSpecs": false,
    "memoryGiB": 8,
    "name": "ml.m5.large",
    "vcpuNum": 2
   },
   {
    "_defaultOrder": 5,
    "_isFastLaunch": false,
    "category": "General purpose",
    "gpuNum": 0,
    "hideHardwareSpecs": false,
    "memoryGiB": 16,
    "name": "ml.m5.xlarge",
    "vcpuNum": 4
   },
   {
    "_defaultOrder": 6,
    "_isFastLaunch": false,
    "category": "General purpose",
    "gpuNum": 0,
    "hideHardwareSpecs": false,
    "memoryGiB": 32,
    "name": "ml.m5.2xlarge",
    "vcpuNum": 8
   },
   {
    "_defaultOrder": 7,
    "_isFastLaunch": false,
    "category": "General purpose",
    "gpuNum": 0,
    "hideHardwareSpecs": false,
    "memoryGiB": 64,
    "name": "ml.m5.4xlarge",
    "vcpuNum": 16
   },
   {
    "_defaultOrder": 8,
    "_isFastLaunch": false,
    "category": "General purpose",
    "gpuNum": 0,
    "hideHardwareSpecs": false,
    "memoryGiB": 128,
    "name": "ml.m5.8xlarge",
    "vcpuNum": 32
   },
   {
    "_defaultOrder": 9,
    "_isFastLaunch": false,
    "category": "General purpose",
    "gpuNum": 0,
    "hideHardwareSpecs": false,
    "memoryGiB": 192,
    "name": "ml.m5.12xlarge",
    "vcpuNum": 48
   },
   {
    "_defaultOrder": 10,
    "_isFastLaunch": false,
    "category": "General purpose",
    "gpuNum": 0,
    "hideHardwareSpecs": false,
    "memoryGiB": 256,
    "name": "ml.m5.16xlarge",
    "vcpuNum": 64
   },
   {
    "_defaultOrder": 11,
    "_isFastLaunch": false,
    "category": "General purpose",
    "gpuNum": 0,
    "hideHardwareSpecs": false,
    "memoryGiB": 384,
    "name": "ml.m5.24xlarge",
    "vcpuNum": 96
   },
   {
    "_defaultOrder": 12,
    "_isFastLaunch": false,
    "category": "General purpose",
    "gpuNum": 0,
    "hideHardwareSpecs": false,
    "memoryGiB": 8,
    "name": "ml.m5d.large",
    "vcpuNum": 2
   },
   {
    "_defaultOrder": 13,
    "_isFastLaunch": false,
    "category": "General purpose",
    "gpuNum": 0,
    "hideHardwareSpecs": false,
    "memoryGiB": 16,
    "name": "ml.m5d.xlarge",
    "vcpuNum": 4
   },
   {
    "_defaultOrder": 14,
    "_isFastLaunch": false,
    "category": "General purpose",
    "gpuNum": 0,
    "hideHardwareSpecs": false,
    "memoryGiB": 32,
    "name": "ml.m5d.2xlarge",
    "vcpuNum": 8
   },
   {
    "_defaultOrder": 15,
    "_isFastLaunch": false,
    "category": "General purpose",
    "gpuNum": 0,
    "hideHardwareSpecs": false,
    "memoryGiB": 64,
    "name": "ml.m5d.4xlarge",
    "vcpuNum": 16
   },
   {
    "_defaultOrder": 16,
    "_isFastLaunch": false,
    "category": "General purpose",
    "gpuNum": 0,
    "hideHardwareSpecs": false,
    "memoryGiB": 128,
    "name": "ml.m5d.8xlarge",
    "vcpuNum": 32
   },
   {
    "_defaultOrder": 17,
    "_isFastLaunch": false,
    "category": "General purpose",
    "gpuNum": 0,
    "hideHardwareSpecs": false,
    "memoryGiB": 192,
    "name": "ml.m5d.12xlarge",
    "vcpuNum": 48
   },
   {
    "_defaultOrder": 18,
    "_isFastLaunch": false,
    "category": "General purpose",
    "gpuNum": 0,
    "hideHardwareSpecs": false,
    "memoryGiB": 256,
    "name": "ml.m5d.16xlarge",
    "vcpuNum": 64
   },
   {
    "_defaultOrder": 19,
    "_isFastLaunch": false,
    "category": "General purpose",
    "gpuNum": 0,
    "hideHardwareSpecs": false,
    "memoryGiB": 384,
    "name": "ml.m5d.24xlarge",
    "vcpuNum": 96
   },
   {
    "_defaultOrder": 20,
    "_isFastLaunch": false,
    "category": "General purpose",
    "gpuNum": 0,
    "hideHardwareSpecs": true,
    "memoryGiB": 0,
    "name": "ml.geospatial.interactive",
    "supportedImageNames": [
     "sagemaker-geospatial-v1-0"
    ],
    "vcpuNum": 0
   },
   {
    "_defaultOrder": 21,
    "_isFastLaunch": true,
    "category": "Compute optimized",
    "gpuNum": 0,
    "hideHardwareSpecs": false,
    "memoryGiB": 4,
    "name": "ml.c5.large",
    "vcpuNum": 2
   },
   {
    "_defaultOrder": 22,
    "_isFastLaunch": false,
    "category": "Compute optimized",
    "gpuNum": 0,
    "hideHardwareSpecs": false,
    "memoryGiB": 8,
    "name": "ml.c5.xlarge",
    "vcpuNum": 4
   },
   {
    "_defaultOrder": 23,
    "_isFastLaunch": false,
    "category": "Compute optimized",
    "gpuNum": 0,
    "hideHardwareSpecs": false,
    "memoryGiB": 16,
    "name": "ml.c5.2xlarge",
    "vcpuNum": 8
   },
   {
    "_defaultOrder": 24,
    "_isFastLaunch": false,
    "category": "Compute optimized",
    "gpuNum": 0,
    "hideHardwareSpecs": false,
    "memoryGiB": 32,
    "name": "ml.c5.4xlarge",
    "vcpuNum": 16
   },
   {
    "_defaultOrder": 25,
    "_isFastLaunch": false,
    "category": "Compute optimized",
    "gpuNum": 0,
    "hideHardwareSpecs": false,
    "memoryGiB": 72,
    "name": "ml.c5.9xlarge",
    "vcpuNum": 36
   },
   {
    "_defaultOrder": 26,
    "_isFastLaunch": false,
    "category": "Compute optimized",
    "gpuNum": 0,
    "hideHardwareSpecs": false,
    "memoryGiB": 96,
    "name": "ml.c5.12xlarge",
    "vcpuNum": 48
   },
   {
    "_defaultOrder": 27,
    "_isFastLaunch": false,
    "category": "Compute optimized",
    "gpuNum": 0,
    "hideHardwareSpecs": false,
    "memoryGiB": 144,
    "name": "ml.c5.18xlarge",
    "vcpuNum": 72
   },
   {
    "_defaultOrder": 28,
    "_isFastLaunch": false,
    "category": "Compute optimized",
    "gpuNum": 0,
    "hideHardwareSpecs": false,
    "memoryGiB": 192,
    "name": "ml.c5.24xlarge",
    "vcpuNum": 96
   },
   {
    "_defaultOrder": 29,
    "_isFastLaunch": true,
    "category": "Accelerated computing",
    "gpuNum": 1,
    "hideHardwareSpecs": false,
    "memoryGiB": 16,
    "name": "ml.g4dn.xlarge",
    "vcpuNum": 4
   },
   {
    "_defaultOrder": 30,
    "_isFastLaunch": false,
    "category": "Accelerated computing",
    "gpuNum": 1,
    "hideHardwareSpecs": false,
    "memoryGiB": 32,
    "name": "ml.g4dn.2xlarge",
    "vcpuNum": 8
   },
   {
    "_defaultOrder": 31,
    "_isFastLaunch": false,
    "category": "Accelerated computing",
    "gpuNum": 1,
    "hideHardwareSpecs": false,
    "memoryGiB": 64,
    "name": "ml.g4dn.4xlarge",
    "vcpuNum": 16
   },
   {
    "_defaultOrder": 32,
    "_isFastLaunch": false,
    "category": "Accelerated computing",
    "gpuNum": 1,
    "hideHardwareSpecs": false,
    "memoryGiB": 128,
    "name": "ml.g4dn.8xlarge",
    "vcpuNum": 32
   },
   {
    "_defaultOrder": 33,
    "_isFastLaunch": false,
    "category": "Accelerated computing",
    "gpuNum": 4,
    "hideHardwareSpecs": false,
    "memoryGiB": 192,
    "name": "ml.g4dn.12xlarge",
    "vcpuNum": 48
   },
   {
    "_defaultOrder": 34,
    "_isFastLaunch": false,
    "category": "Accelerated computing",
    "gpuNum": 1,
    "hideHardwareSpecs": false,
    "memoryGiB": 256,
    "name": "ml.g4dn.16xlarge",
    "vcpuNum": 64
   },
   {
    "_defaultOrder": 35,
    "_isFastLaunch": false,
    "category": "Accelerated computing",
    "gpuNum": 1,
    "hideHardwareSpecs": false,
    "memoryGiB": 61,
    "name": "ml.p3.2xlarge",
    "vcpuNum": 8
   },
   {
    "_defaultOrder": 36,
    "_isFastLaunch": false,
    "category": "Accelerated computing",
    "gpuNum": 4,
    "hideHardwareSpecs": false,
    "memoryGiB": 244,
    "name": "ml.p3.8xlarge",
    "vcpuNum": 32
   },
   {
    "_defaultOrder": 37,
    "_isFastLaunch": false,
    "category": "Accelerated computing",
    "gpuNum": 8,
    "hideHardwareSpecs": false,
    "memoryGiB": 488,
    "name": "ml.p3.16xlarge",
    "vcpuNum": 64
   },
   {
    "_defaultOrder": 38,
    "_isFastLaunch": false,
    "category": "Accelerated computing",
    "gpuNum": 8,
    "hideHardwareSpecs": false,
    "memoryGiB": 768,
    "name": "ml.p3dn.24xlarge",
    "vcpuNum": 96
   },
   {
    "_defaultOrder": 39,
    "_isFastLaunch": false,
    "category": "Memory Optimized",
    "gpuNum": 0,
    "hideHardwareSpecs": false,
    "memoryGiB": 16,
    "name": "ml.r5.large",
    "vcpuNum": 2
   },
   {
    "_defaultOrder": 40,
    "_isFastLaunch": false,
    "category": "Memory Optimized",
    "gpuNum": 0,
    "hideHardwareSpecs": false,
    "memoryGiB": 32,
    "name": "ml.r5.xlarge",
    "vcpuNum": 4
   },
   {
    "_defaultOrder": 41,
    "_isFastLaunch": false,
    "category": "Memory Optimized",
    "gpuNum": 0,
    "hideHardwareSpecs": false,
    "memoryGiB": 64,
    "name": "ml.r5.2xlarge",
    "vcpuNum": 8
   },
   {
    "_defaultOrder": 42,
    "_isFastLaunch": false,
    "category": "Memory Optimized",
    "gpuNum": 0,
    "hideHardwareSpecs": false,
    "memoryGiB": 128,
    "name": "ml.r5.4xlarge",
    "vcpuNum": 16
   },
   {
    "_defaultOrder": 43,
    "_isFastLaunch": false,
    "category": "Memory Optimized",
    "gpuNum": 0,
    "hideHardwareSpecs": false,
    "memoryGiB": 256,
    "name": "ml.r5.8xlarge",
    "vcpuNum": 32
   },
   {
    "_defaultOrder": 44,
    "_isFastLaunch": false,
    "category": "Memory Optimized",
    "gpuNum": 0,
    "hideHardwareSpecs": false,
    "memoryGiB": 384,
    "name": "ml.r5.12xlarge",
    "vcpuNum": 48
   },
   {
    "_defaultOrder": 45,
    "_isFastLaunch": false,
    "category": "Memory Optimized",
    "gpuNum": 0,
    "hideHardwareSpecs": false,
    "memoryGiB": 512,
    "name": "ml.r5.16xlarge",
    "vcpuNum": 64
   },
   {
    "_defaultOrder": 46,
    "_isFastLaunch": false,
    "category": "Memory Optimized",
    "gpuNum": 0,
    "hideHardwareSpecs": false,
    "memoryGiB": 768,
    "name": "ml.r5.24xlarge",
    "vcpuNum": 96
   },
   {
    "_defaultOrder": 47,
    "_isFastLaunch": false,
    "category": "Accelerated computing",
    "gpuNum": 1,
    "hideHardwareSpecs": false,
    "memoryGiB": 16,
    "name": "ml.g5.xlarge",
    "vcpuNum": 4
   },
   {
    "_defaultOrder": 48,
    "_isFastLaunch": false,
    "category": "Accelerated computing",
    "gpuNum": 1,
    "hideHardwareSpecs": false,
    "memoryGiB": 32,
    "name": "ml.g5.2xlarge",
    "vcpuNum": 8
   },
   {
    "_defaultOrder": 49,
    "_isFastLaunch": false,
    "category": "Accelerated computing",
    "gpuNum": 1,
    "hideHardwareSpecs": false,
    "memoryGiB": 64,
    "name": "ml.g5.4xlarge",
    "vcpuNum": 16
   },
   {
    "_defaultOrder": 50,
    "_isFastLaunch": false,
    "category": "Accelerated computing",
    "gpuNum": 1,
    "hideHardwareSpecs": false,
    "memoryGiB": 128,
    "name": "ml.g5.8xlarge",
    "vcpuNum": 32
   },
   {
    "_defaultOrder": 51,
    "_isFastLaunch": false,
    "category": "Accelerated computing",
    "gpuNum": 1,
    "hideHardwareSpecs": false,
    "memoryGiB": 256,
    "name": "ml.g5.16xlarge",
    "vcpuNum": 64
   },
   {
    "_defaultOrder": 52,
    "_isFastLaunch": false,
    "category": "Accelerated computing",
    "gpuNum": 4,
    "hideHardwareSpecs": false,
    "memoryGiB": 192,
    "name": "ml.g5.12xlarge",
    "vcpuNum": 48
   },
   {
    "_defaultOrder": 53,
    "_isFastLaunch": false,
    "category": "Accelerated computing",
    "gpuNum": 4,
    "hideHardwareSpecs": false,
    "memoryGiB": 384,
    "name": "ml.g5.24xlarge",
    "vcpuNum": 96
   },
   {
    "_defaultOrder": 54,
    "_isFastLaunch": false,
    "category": "Accelerated computing",
    "gpuNum": 8,
    "hideHardwareSpecs": false,
    "memoryGiB": 768,
    "name": "ml.g5.48xlarge",
    "vcpuNum": 192
   },
   {
    "_defaultOrder": 55,
    "_isFastLaunch": false,
    "category": "Accelerated computing",
    "gpuNum": 8,
    "hideHardwareSpecs": false,
    "memoryGiB": 1152,
    "name": "ml.p4d.24xlarge",
    "vcpuNum": 96
   },
   {
    "_defaultOrder": 56,
    "_isFastLaunch": false,
    "category": "Accelerated computing",
    "gpuNum": 8,
    "hideHardwareSpecs": false,
    "memoryGiB": 1152,
    "name": "ml.p4de.24xlarge",
    "vcpuNum": 96
   }
  ],
  "instance_type": "ml.t3.medium",
  "kernelspec": {
   "display_name": "Python 3",
   "language": "python",
   "name": "python3"
  },
  "language_info": {
   "codemirror_mode": {
    "name": "ipython",
    "version": 3
   },
   "file_extension": ".py",
   "mimetype": "text/x-python",
   "name": "python",
   "nbconvert_exporter": "python",
   "pygments_lexer": "ipython3",
   "version": "3.8.8"
  }
 },
 "nbformat": 4,
 "nbformat_minor": 4
}
